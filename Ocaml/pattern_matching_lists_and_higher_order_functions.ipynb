{
 "cells": [
  {
   "cell_type": "markdown",
   "id": "e03e09f6",
   "metadata": {},
   "source": [
    "# Esercizi OCaml - 02bis - Liste e Pattern Matching - Altri esercizi"
   ]
  },
  {
   "cell_type": "markdown",
   "id": "8bdc6bf5",
   "metadata": {},
   "source": [
    "## Funzioni ricorsive su liste"
   ]
  },
  {
   "cell_type": "markdown",
   "id": "64016a45",
   "metadata": {},
   "source": [
    "**ATTENZIONE:**\n",
    "\n",
    "* Per risolvere i seguenti esercizi provare innanzitutto a definire delle funzioni ricorsive in modo esplicito (per intenderci con `let rec`) e poi provare a dare una soluzione diversa non utilizzando la ricorsione esplicita, ma ricorrendo alle funzioni higher-order viste a lezione (`List.map`,`List.filter`,`List.fold_right`,`List.fold_left`, eccetera...)\n",
    "* Nella soluzione è possibile (e in alcuni casi, consigliato) definire funzioni ausiliarie usando il costrutto `let ...  in`. Nelle soluzioni che si basano su ricorsione esplicita la funzione ricorsiva può essere quella principale o una (o più) di quelle ausiliarie."
   ]
  },
  {
   "cell_type": "markdown",
   "id": "1c7f55c5",
   "metadata": {
    "cell_style": "center"
   },
   "source": [
    "**Esercizio 2bis.1.** Scrivere una funzione `contamax` che prende una lista `lis` e restituisce il numero di occorrenze del valore massimo. Si può assumere che la lista non sia vuota (definendo quindi una funzione parziale, non definita su lista vuota) oppure restituire un valore arbirario nel caso di lista vuota. Ad esempio, `contamax [3;4;2;3;4;1;4]` restituisce `3` in quanto il valore massimo (che è `4`) occorre tre volte nella lista."
   ]
  },
  {
   "cell_type": "code",
   "execution_count": null,
   "id": "b8ef708f",
   "metadata": {},
   "outputs": [],
   "source": [
    "let rec find_max lis = \n",
    "    match lis with\n",
    "    | [] -> 0\n",
    "    | h::tl -> let max = find_max tl in if h < max then max else h ;;\n",
    "    \n",
    "let contamax lis = \n",
    "    let m = find_max lis in (* basta trovare il max una sola volta e poi confrontarlo via via *)\n",
    "    let rec aux l acc = \n",
    "        match l with\n",
    "        | [] -> acc\n",
    "        | x::tl -> if x = m then aux tl (acc + 1) else aux tl acc\n",
    "    in aux lis 0 ;;\n",
    "    \n",
    "(* fold_left version *)\n",
    "let contamax2 lis = \n",
    "    let m = find_max lis in\n",
    "    match lis with\n",
    "              | [] -> 0\n",
    "              | _ -> List.fold_left (fun acc x -> if x = m then (acc + 1) else acc) 0 lis ;;\n",
    "              \n",
    "find_max [3; 4; 2; 3; 4; 1; 4] ;;\n",
    "contamax [3; 4; 2; 3; 4; 1; 4] ;;\n",
    "contamax2 [3; 4; 2; 3; 4; 1; 4] ;;"
   ]
  },
  {
   "cell_type": "markdown",
   "id": "3050de41",
   "metadata": {},
   "source": [
    "**Esercizio 2bis.2.** Scrivere una funzione `noripetizioni` che prende una lista di interi e restituisce una lista con gli stessi elementi ma senza ripetizioni."
   ]
  },
  {
   "cell_type": "code",
   "execution_count": 44,
   "id": "e30c49f4",
   "metadata": {},
   "outputs": [
    {
     "data": {
      "text/plain": [
       "val noripetizioni : 'a list -> 'a list = <fun>\n"
      ]
     },
     "execution_count": 44,
     "metadata": {},
     "output_type": "execute_result"
    },
    {
     "data": {
      "text/plain": [
       "- : int list = [2; 1; 3; 5; 6; 7]\n"
      ]
     },
     "execution_count": 44,
     "metadata": {},
     "output_type": "execute_result"
    },
    {
     "data": {
      "text/plain": [
       "- : int list = [1; 2; 3; 5; 6; 7; 9]\n"
      ]
     },
     "execution_count": 44,
     "metadata": {},
     "output_type": "execute_result"
    }
   ],
   "source": [
    "let noripetizioni lis =\n",
    "  let rec aux l acc =\n",
    "    match l with\n",
    "    | [] -> acc\n",
    "    | x :: xs -> if List.mem x acc then aux xs acc (* controllo che l'elemento sia già stato trovato *)\n",
    "                 else aux xs (x :: acc) (* altrimenti lo metto nell'accumulatore *)\n",
    "  in List.rev (aux lis []) ;;\n",
    "                               \n",
    "    \n",
    "noripetizioni [2; 2; 1; 3; 5; 6; 7; 6] ;;\n",
    "noripetizioni [1; 2; 1; 3; 5; 6; 7; 6; 6; 7; 9] ;;"
   ]
  },
  {
   "cell_type": "markdown",
   "id": "bac65529",
   "metadata": {},
   "source": [
    "**Esercizio 2bis.3.** Scrivere una funzione `twice` che prende una lista `lis` e un intero `n` e restituisce `true` se la `n` occorre esattamente due volte in `lis`, restituisce `false` altrimenti."
   ]
  },
  {
   "cell_type": "code",
   "execution_count": 57,
   "id": "dc507399",
   "metadata": {},
   "outputs": [
    {
     "data": {
      "text/plain": [
       "val twice : 'a list -> 'a -> bool = <fun>\n"
      ]
     },
     "execution_count": 57,
     "metadata": {},
     "output_type": "execute_result"
    },
    {
     "data": {
      "text/plain": [
       "- : bool = false\n"
      ]
     },
     "execution_count": 57,
     "metadata": {},
     "output_type": "execute_result"
    }
   ],
   "source": [
    "let twice lis n = List.length (List.filter (fun x -> x = n) lis) = 2 ;;\n",
    "\n",
    "twice [1; 3; 4; 5; 6; 5; 5] 5;; "
   ]
  },
  {
   "cell_type": "markdown",
   "id": "10d07874",
   "metadata": {},
   "source": [
    "**Esercizio 2bis.4.** Scrivere una funzione `sumflat` che prende una lista di liste di interi `lis` e restituisce una lista in cui ogni elemento corrisponde alla somma degli elementi di una lista di interi in `lis`. Ad esempio, `sumflat [[8;2];[];[6;3;4]]` restituisce `[10;0;13]`."
   ]
  },
  {
   "cell_type": "code",
   "execution_count": 62,
   "id": "fd79d8a3",
   "metadata": {},
   "outputs": [
    {
     "data": {
      "text/plain": [
       "val sumflat : int list list -> int list = <fun>\n"
      ]
     },
     "execution_count": 62,
     "metadata": {},
     "output_type": "execute_result"
    },
    {
     "data": {
      "text/plain": [
       "- : int list = [10; 0; 13]\n"
      ]
     },
     "execution_count": 62,
     "metadata": {},
     "output_type": "execute_result"
    }
   ],
   "source": [
    "let sumflat lis = List.map (fun sublis -> List.fold_left (+) 0 sublis) lis ;;\n",
    "\n",
    "sumflat [[8;2];[];[6;3;4]] ;;"
   ]
  },
  {
   "cell_type": "code",
   "execution_count": null,
   "id": "746b3845",
   "metadata": {},
   "outputs": [],
   "source": []
  }
 ],
 "metadata": {
  "kernelspec": {
   "display_name": "OCaml default",
   "language": "OCaml",
   "name": "ocaml-jupyter"
  },
  "language_info": {
   "codemirror_mode": "text/x-ocaml",
   "file_extension": ".ml",
   "mimetype": "text/x-ocaml",
   "name": "OCaml",
   "nbconverter_exporter": null,
   "pygments_lexer": "OCaml",
   "version": "4.08.1"
  }
 },
 "nbformat": 4,
 "nbformat_minor": 5
}
