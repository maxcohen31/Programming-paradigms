{
 "cells": [
  {
   "cell_type": "markdown",
   "id": "6df81c1a",
   "metadata": {},
   "source": [
    "### Ancora esercizi sul type inference"
   ]
  },
  {
   "cell_type": "markdown",
   "id": "d2a67c56",
   "metadata": {},
   "source": [
    "**Esercizio 1**"
   ]
  },
  {
   "cell_type": "code",
   "execution_count": null,
   "id": "3b42008e",
   "metadata": {},
   "outputs": [],
   "source": []
  },
  {
   "cell_type": "code",
   "execution_count": 3,
   "id": "1ad26fda",
   "metadata": {},
   "outputs": [
    {
     "data": {
      "text/plain": [
       "- : (int -> int * (int -> 'a)) -> int -> 'a = <fun>\n"
      ]
     },
     "execution_count": 3,
     "metadata": {},
     "output_type": "execute_result"
    }
   ],
   "source": [
    "fun f -> fun x -> \n",
    "    match (f x) with\n",
    "    | (0,g) -> g x\n",
    "    | (n,g) -> g n;;"
   ]
  },
  {
   "cell_type": "markdown",
   "id": "3bee2278",
   "metadata": {},
   "source": [
    "Il tipo di (f x) è una tupla (int * g -> 'a) dove g è una funzione che restituisce un tipo 'a.\n",
    "n è un intero. Quindi g è una funzione che prende un intero g: int -> 'a. Dato che n è un intero anche x lo sarà a sua volta. Il risultato è g:int -> 'a.\n",
    "\n",
    "Il tipo della funzione è :int -> int *(int -> 'a)) -> int -> 'a."
   ]
  },
  {
   "cell_type": "markdown",
   "id": "5a703d13",
   "metadata": {},
   "source": [
    "**Esercizio 2**"
   ]
  },
  {
   "cell_type": "code",
   "execution_count": 7,
   "id": "2ec9567d",
   "metadata": {},
   "outputs": [
    {
     "data": {
      "text/plain": [
       "- : (int * 'a) list -> int -> (int * 'a) list = <fun>\n"
      ]
     },
     "execution_count": 7,
     "metadata": {},
     "output_type": "execute_result"
    }
   ],
   "source": [
    "fun x -> fun y -> \n",
    "    match x with\n",
    "    | [] -> []\n",
    "    | z::[] -> z::z::[]\n",
    "    | (z1,z2)::x' -> (z1+y,z2)::x';;"
   ]
  },
  {
   "cell_type": "markdown",
   "id": "d91c3e67",
   "metadata": {},
   "source": [
    "Il pattern matching ci dice che x è una 'a list. Dal terzo ramo si evince che y è di tipo int.\n",
    "Sempre dal terzo ramo si deduce che x è una lista di tuple (int * 'a). z2 non sappiamo di che tipo sia.\n",
    "\n",
    "La funzione ha tipo: (int*int) list -> int -> (int * 'a) * list"
   ]
  },
  {
   "cell_type": "markdown",
   "id": "4a5dd314",
   "metadata": {},
   "source": [
    "**Esercizio 3**"
   ]
  },
  {
   "cell_type": "code",
   "execution_count": 10,
   "id": "92fb0d40",
   "metadata": {},
   "outputs": [
    {
     "data": {
      "text/plain": [
       "val f : int -> 'a * int -> 'a -> int = <fun>\n"
      ]
     },
     "execution_count": 10,
     "metadata": {},
     "output_type": "execute_result"
    }
   ],
   "source": [
    "let f x y z =\n",
    "    let g = fun k -> x+k in\n",
    "        match y with\n",
    "        | (a,0) -> if a=z then g 1 else g 2\n",
    "        | (a,n) -> g n;;"
   ]
  },
  {
   "cell_type": "markdown",
   "id": "cd6ee997",
   "metadata": {},
   "source": [
    "Dalla dichiarazione della funzione g notiamo che x è di tipo int come lo è k.\n",
    "y è una tupla ('a * int). z ha tipo 'a e lo si vede da a=z.\n",
    "Il risultato finale è un int -> int.\n",
    "\n",
    "La funzione ha tipo: f: int -> ('a * int) -> 'a -> int"
   ]
  },
  {
   "cell_type": "markdown",
   "id": "6b6230fd",
   "metadata": {},
   "source": [
    "**Esercizio 4**"
   ]
  },
  {
   "cell_type": "code",
   "execution_count": 11,
   "id": "474e09fd",
   "metadata": {},
   "outputs": [
    {
     "data": {
      "text/plain": [
       "val f : int -> int list -> int list -> int list = <fun>\n"
      ]
     },
     "execution_count": 11,
     "metadata": {},
     "output_type": "execute_result"
    }
   ],
   "source": [
    "let f x y z =\n",
    "    match (x,y) with\n",
    "    | (0,[]) -> []\n",
    "    | (x1,[]) -> z\n",
    "    | (x1,x2::lis) -> if x2<0 then lis else [];;"
   ]
  },
  {
   "cell_type": "markdown",
   "id": "90b615ae",
   "metadata": {},
   "source": [
    "Dal pattern matching notiamo deduciamo che x è di tipo int e y una 'a list.\n",
    "z è una a' list.\n",
    "Dal primo ramo dell'if x2 è un int e da ciò deduciamo che y e z sono int list.\n",
    "\n",
    "La funzione ha tipo: f: int -> int list -> int list -> int list"
   ]
  },
  {
   "cell_type": "markdown",
   "id": "fef78a92",
   "metadata": {},
   "source": [
    "**Esercizio 5**"
   ]
  },
  {
   "cell_type": "code",
   "execution_count": 12,
   "id": "1055a60c",
   "metadata": {},
   "outputs": [
    {
     "data": {
      "text/plain": [
       "val f : (int * bool -> bool) -> int * bool -> bool -> bool = <fun>\n"
      ]
     },
     "execution_count": 12,
     "metadata": {},
     "output_type": "execute_result"
    }
   ],
   "source": [
    "let f g x y = if g x then\n",
    "    match x with\n",
    "    | (0,k) -> k\n",
    "    | (_,k) -> g x\n",
    "else\n",
    "y ;;"
   ]
  },
  {
   "cell_type": "markdown",
   "id": "a21d7221",
   "metadata": {},
   "source": [
    "Il pattern matching ci dice che x è una tupla (int * 'a).\n",
    "g prende una tupla (int * 'a) e ritorna un tipo 'b.\n",
    "Il ramo if ci dice che (g x) è di tipo bool.\n",
    "Se (g x) è di tipo bool allora anche k e y lo saranno.\n",
    "\n",
    "Il tipo inferito è: f: (int * bool) -> bool -> int * bool -> bool"
   ]
  },
  {
   "cell_type": "code",
   "execution_count": null,
   "id": "01153967",
   "metadata": {},
   "outputs": [],
   "source": []
  }
 ],
 "metadata": {
  "kernelspec": {
   "display_name": "OCaml default",
   "language": "OCaml",
   "name": "ocaml-jupyter"
  },
  "language_info": {
   "codemirror_mode": "text/x-ocaml",
   "file_extension": ".ml",
   "mimetype": "text/x-ocaml",
   "name": "OCaml",
   "nbconverter_exporter": null,
   "pygments_lexer": "OCaml",
   "version": "4.08.1"
  }
 },
 "nbformat": 4,
 "nbformat_minor": 5
}
