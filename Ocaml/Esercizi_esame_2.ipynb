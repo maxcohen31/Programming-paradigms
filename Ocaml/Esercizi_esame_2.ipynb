{
 "cells": [
  {
   "cell_type": "markdown",
   "id": "b51dc6db",
   "metadata": {},
   "source": [
    "**Esercizio 1**"
   ]
  },
  {
   "cell_type": "markdown",
   "id": "b984a012",
   "metadata": {},
   "source": [
    "Si considerino i seguenti tipi di dato che consentono di rappresentare rispettivamente punti e rettangoli in\n",
    "un piano cartesiano tramite dei record:\n",
    "type punto = {x:float; y:float};;\n",
    "type rettangolo = { id:int; p1:punto; p2:punto};;\n",
    "In particolare, un rettangolo è rappresentato tramite un identificativo intero, e due punti che rappresentano\n",
    "langolo in basso a destra (p1) e in alto a sinistra (p2) del rettangolo rappresentato, ad esempio:\n",
    "\n",
    "\n",
    "let r1 = {id=123; p1={x=1.;y=1.}; p2={x=6.;y=2.}};;\n",
    "let r2 = {id=44; p1={x=1.;y=2.}; p2={x=2.;y=3.}};;\n",
    "let r3 = {id=332; p1={x=4.;y=2.}; p2={x=6.;y=4.}};;\n",
    "\n",
    "\n",
    "Tramite questa rappresentazione, è possibile definire funzioni per calcolare la base, l’altezza e l’area di un\n",
    "rettangolo come segue:\n",
    "\n",
    "let base r = r.p2.x -. r.p1.x;;\n",
    "\n",
    "let altezza r = r.p2.y -. r.p1.y;;\n",
    "\n",
    "let area r = base r *. altezza r;;\n",
    "\n",
    "Ad esempio:\n",
    "area r1;; (* restituisce 5. *)\n",
    "area r2;; (* restituisce 1. *)\n",
    "area r3;;(* restituisce 4. *)\n",
    "\n",
    "Una figura complessa formata da più rettangoli può essere rappresentata come una lista di questi record,\n",
    "ossia come un valore del tipo rettangolo list.\n",
    "Si definiscano, usando i costrutti di programmazione funzionale di OCaml, le funzioni check_crescenti\n",
    "e swap con i seguenti tipi\n",
    "\n",
    "check_crescenti : rettangolo list -> bool\n",
    "swap : int -> int -> rettangolo list -> rettangolo list\n",
    "\n",
    "tali che:\n",
    "    \n",
    "    • data una lista di rettangoli, check_crescenti restituisce true se i rettangoli della lista sono ordinati per area crescente. Ad esempio, check_crescenti [r1; r2; r3] restituisce false, mentre check_crescenti [r2; r3; r1] restituisce true;\n",
    "    \n",
    "    • dati due interi id1 e id2 e una lista di rettangoli lis, la funzione swap id1 id2 lis restituisce una lista ottenuta scambiando di posizione i rettangoli con identificatori id1 e id2 in lis. Ad esempio, swap 123 332 [r1;r2;r3] restituisce [r3;r2;r1].\n",
    "    \n",
    "Si può assumere che gli identificatori dei rettangoli nella lista siano tutti diversi (senza controllarlo).\n",
    "Inoltre, se la lista non contiene rettangoli con identificatori id1 e id2 deve essere sollevata un’eccezione."
   ]
  },
  {
   "cell_type": "code",
   "execution_count": 1,
   "id": "c07b5e06",
   "metadata": {},
   "outputs": [
    {
     "data": {
      "text/plain": [
       "type punto = { x : float; y : float; }\n"
      ]
     },
     "execution_count": 1,
     "metadata": {},
     "output_type": "execute_result"
    },
    {
     "data": {
      "text/plain": [
       "type rettangolo = { id : int; p1 : punto; p2 : punto; }\n"
      ]
     },
     "execution_count": 1,
     "metadata": {},
     "output_type": "execute_result"
    }
   ],
   "source": [
    "type punto = {x:float; y:float};;\n",
    "type rettangolo = { id:int; p1:punto; p2:punto};;"
   ]
  },
  {
   "cell_type": "code",
   "execution_count": 2,
   "id": "4ce12319",
   "metadata": {},
   "outputs": [
    {
     "data": {
      "text/plain": [
       "val r1 : rettangolo =\n",
       "  {id = 123; p1 = {x = 1.; y = 1.}; p2 = {x = 6.; y = 2.}}\n"
      ]
     },
     "execution_count": 2,
     "metadata": {},
     "output_type": "execute_result"
    },
    {
     "data": {
      "text/plain": [
       "val r2 : rettangolo = {id = 44; p1 = {x = 1.; y = 2.}; p2 = {x = 2.; y = 3.}}\n"
      ]
     },
     "execution_count": 2,
     "metadata": {},
     "output_type": "execute_result"
    },
    {
     "data": {
      "text/plain": [
       "val r3 : rettangolo =\n",
       "  {id = 332; p1 = {x = 4.; y = 2.}; p2 = {x = 6.; y = 4.}}\n"
      ]
     },
     "execution_count": 2,
     "metadata": {},
     "output_type": "execute_result"
    }
   ],
   "source": [
    "let r1 = {id=123; p1={x=1.;y=1.}; p2={x=6.;y=2.}};;\n",
    "let r2 = {id=44; p1={x=1.;y=2.}; p2={x=2.;y=3.}};;\n",
    "let r3 = {id=332; p1={x=4.;y=2.}; p2={x=6.;y=4.}};;"
   ]
  },
  {
   "cell_type": "code",
   "execution_count": 3,
   "id": "069153b7",
   "metadata": {},
   "outputs": [
    {
     "data": {
      "text/plain": [
       "val make_area : rettangolo -> float = <fun>\n"
      ]
     },
     "execution_count": 3,
     "metadata": {},
     "output_type": "execute_result"
    },
    {
     "data": {
      "text/plain": [
       "val check_crescenti : rettangolo list -> bool = <fun>\n"
      ]
     },
     "execution_count": 3,
     "metadata": {},
     "output_type": "execute_result"
    },
    {
     "name": "stderr",
     "output_type": "stream",
     "text": [
      "File \"[3]\", line 23, characters 43-79:\n",
      "23 |                                         in swap_map (get id1 lis) (get id2 lis);\n",
      "                                                ^^^^^^^^^^^^^^^^^^^^^^^^^^^^^^^^^^^^\n",
      "Warning 10: this expression should have type unit.\n"
     ]
    },
    {
     "ename": "error",
     "evalue": "compile_error",
     "output_type": "error",
     "traceback": [
      "File \"[3]\", line 25, characters 0-4:\n25 | swap (8) (332) [r1;r2;r3] ;;\n     ^^^^\nError: Unbound value swap\nHint: If this is a recursive definition,\nyou should add the 'rec' keyword on line 15\n"
     ]
    }
   ],
   "source": [
    "let make_area r = (r.p2.x -. r.p1.x) *. (r.p2.y -. r.p1.y) ;;\n",
    "\n",
    "let rec check_crescenti lst = \n",
    "    match lst with\n",
    "    | [] -> true\n",
    "    | x::[] -> true\n",
    "    | x::y::lst' -> let first_area = make_area x in \n",
    "                    let second_area = make_area y in\n",
    "                    if (first_area < second_area) then check_crescenti lst' else false ;; \n",
    "                                                      \n",
    "(* check_crescenti [r1;r2;r3] ;;\n",
    "check_crescenti [r2;r3;r1] *)\n",
    "\n",
    "(* Soluzione proposta *)\n",
    "let swap id1 id2 lis =\n",
    "    let rec get id lis =\n",
    "        match lis with\n",
    "        | [] -> failwith \"non trovato\"\n",
    "        | r::lis' -> if (r.id = id) then r else get id lis' in\n",
    "                                        let rec swap_map r1 r2 =\n",
    "                                        let f r = if (r.id = r1.id) then r2 else if (r.id = r2.id) then r1 else r\n",
    "                                        in List.map f lis\n",
    "                                        in swap_map (get id1 lis) (get id2 lis);\n",
    "\n",
    "swap (8) (332) [r1;r2;r3] ;;"
   ]
  },
  {
   "cell_type": "markdown",
   "id": "282396a3",
   "metadata": {},
   "source": [
    "**Esercizio 2**\n",
    "\n",
    "stessalunghezza : ’a list list -> bool\n",
    "separa : (’a * ’b) list list -> ’a list list * ’b list list\n",
    "tali che:\n",
    "\n",
    "- stessalunghezza prende una lista di liste lis e verifica se tutte le liste contenute in lis hanno la stessa lunghezza.\n",
    "    \n",
    "Ad esempio:\n",
    "\n",
    "stessalunghezza [[1;2;3];[4;5;6];[7;8;9]] (* restituisce true *)\n",
    "stessalunghezza [[’a’;’b];[’c’]] (* restituisce false *)\n",
    "\n",
    "- separa prende una lista di liste di coppie lis e restituisce una coppia di liste di liste (lis1,lis2)\n",
    "     tale che ogni lista di coppie [(a1, b1); . . . ; (aN, bN )] in lis viene trasformata in due liste, una con i primi elementi [a1; . . . ; aN ] e una con i secondi elementi [b1; . . . ; bN ], e le due liste vengono inserite rispettivamente in lis1 e lis2. \n",
    "     \n",
    "Ad esempio:\n",
    "\n",
    "separa [[(1,’a’);(2,’b’);(3,’c’)];[(4,’d’);(5,’e’]] (* restituisce ([[1;2;3];[4;5]],[[’a’,’b’,’c’],[’d’,’e’]] *)"
   ]
  },
  {
   "cell_type": "code",
   "execution_count": 4,
   "id": "9d76ed0c",
   "metadata": {},
   "outputs": [
    {
     "data": {
      "text/plain": [
       "val get_len : 'a list list -> int list = <fun>\n"
      ]
     },
     "execution_count": 4,
     "metadata": {},
     "output_type": "execute_result"
    },
    {
     "data": {
      "text/plain": [
       "val stessalunghezza : 'a list list -> bool = <fun>\n"
      ]
     },
     "execution_count": 4,
     "metadata": {},
     "output_type": "execute_result"
    },
    {
     "data": {
      "text/plain": [
       "val build_list : ('a * 'b) list -> 'a list * 'b list = <fun>\n"
      ]
     },
     "execution_count": 4,
     "metadata": {},
     "output_type": "execute_result"
    },
    {
     "data": {
      "text/plain": [
       "val separa :\n",
       "  ('a * 'b) list list -> ('a list * 'b list) list * ('a list * 'b list) list =\n",
       "  <fun>\n"
      ]
     },
     "execution_count": 4,
     "metadata": {},
     "output_type": "execute_result"
    },
    {
     "data": {
      "text/plain": [
       "- : (int list * char list) list * (int list * char list) list =\n",
       "([([2; 3], ['s'; 'w'])], [])\n"
      ]
     },
     "execution_count": 4,
     "metadata": {},
     "output_type": "execute_result"
    },
    {
     "data": {
      "text/plain": [
       "- : (int list * char list) list * (int list * char list) list =\n",
       "([([1; 2; 3], ['a'; 'b'; 'c'])], [([4; 5], ['d'; 'e'])])\n"
      ]
     },
     "execution_count": 4,
     "metadata": {},
     "output_type": "execute_result"
    }
   ],
   "source": [
    "let get_len lst =\n",
    "    match lst with\n",
    "    | [] -> []\n",
    "    | x::lst' -> List.length x::List.map List.length lst' ;;\n",
    "\n",
    "let stessalunghezza lst = \n",
    "    match lst with\n",
    "    | [] -> true\n",
    "    | x::[] -> true\n",
    "    | x::lst' -> let lengths = get_len lst' in List.for_all (fun x -> List.length x = List.hd lengths) lst' ;;\n",
    "\n",
    "let rec build_list lst = \n",
    "    match lst with\n",
    "    | [] -> ([], [])\n",
    "    | (x, y)::lst' -> let (r1, r2) = build_list lst' in (x::r1, y::r2) ;;\n",
    "\n",
    "let separa lst =\n",
    "    match lst with\n",
    "    | [] -> ([], [])\n",
    "    | x::[] -> ([build_list x], [])\n",
    "    | x::y::lst' -> ([build_list x], [build_list y]) ;;\n",
    "\n",
    "(* build_list [(1,'s'); (2,'e')] ;; *)\n",
    "\n",
    "separa [[(2, 's'); (3, 'w')]] ;;\n",
    "separa [[(1,'a');(2,'b');(3,'c')];[(4,'d');(5,'e')]]"
   ]
  },
  {
   "cell_type": "markdown",
   "id": "aeb255f2",
   "metadata": {},
   "source": [
    "**Esercizio 3**\n",
    "\n",
    "Definire in OCaml, usando i costrutti di programmazione funzionale, le seguenti funzioni:\n",
    "bimedia : int*int list -> int*int\n",
    "alternati : int*int list -> int\n",
    "tali che:\n",
    " - bimedia prende una lista di coppie di interi lis che si assume non vuota e restituisce la coppia (m1,m2) dove m1 è la media dei primi elementi delle coppie in lis ed m2 è la media dei secondi elementi delle stesse coppie. \n",
    "\n",
    "Ad esempio:\n",
    "\n",
    "\n",
    "bimedia [(1,20);(5,10);(6,30)] (* restituisce (4,20) *)\n",
    "\n",
    "- alternati prende una lista di coppie di interi lis e restituisce la somma dei primi elementi delle coppie in posizioni dispari nella lista con i secondi elementi delle coppie in posizioni pari. In altre parole, se lis = [(a1,b1);(a2,b2);(a3,b3);(a4,b4);...] calcola a1+b2+a3+b4+.... \n",
    "\n",
    "Ad esempio:\n",
    "\n",
    "alternati [(1,10);(2,20);(3,30);(4,40)] (* restituisce 64 *)"
   ]
  },
  {
   "cell_type": "code",
   "execution_count": 11,
   "id": "fbabffad",
   "metadata": {},
   "outputs": [
    {
     "data": {
      "text/plain": [
       "val get_element : ('a * 'b) list -> 'a list * 'b list = <fun>\n"
      ]
     },
     "execution_count": 11,
     "metadata": {},
     "output_type": "execute_result"
    },
    {
     "data": {
      "text/plain": [
       "val bimedia : (int * int) list -> int * int = <fun>\n"
      ]
     },
     "execution_count": 11,
     "metadata": {},
     "output_type": "execute_result"
    },
    {
     "data": {
      "text/plain": [
       "val alternati : (int * int) list -> int = <fun>\n",
       "val alternati_odd : (int * int) list -> int = <fun>\n"
      ]
     },
     "execution_count": 11,
     "metadata": {},
     "output_type": "execute_result"
    },
    {
     "data": {
      "text/plain": [
       "- : int = 64\n"
      ]
     },
     "execution_count": 11,
     "metadata": {},
     "output_type": "execute_result"
    }
   ],
   "source": [
    "let rec get_element lst = \n",
    "    match lst with\n",
    "    | [] -> ([], [])\n",
    "    | (x, y)::lst' -> let (r1, r2) = get_element lst' in (x::r1, y::r2) ;;\n",
    "    \n",
    "let bimedia lst = \n",
    "    match lst with \n",
    "    | [] -> (0, 0) \n",
    "    | lst' -> let (x, y) = get_element lst' in if (List.length x = 0 || List.length y = 0) then (0, 0)\n",
    "              else ((List.fold_left (+) 0 x)/(List.length x), (List.fold_left (+) 0 y)/(List.length y)) ;;\n",
    "                                                \n",
    "    \n",
    "let rec alternati lst =\n",
    "    match lst with\n",
    "    | [] -> 0\n",
    "    | (x, y)::lst' -> x + alternati_odd lst'\n",
    "and alternati_odd lst =\n",
    "    match lst with\n",
    "    | [] -> 0\n",
    "    | (x, y)::lst' -> y + alternati lst' ;;\n",
    "    \n",
    "alternati [(1,10);(2,20);(3,30);(4,40)] "
   ]
  },
  {
   "cell_type": "markdown",
   "id": "ffe00edc",
   "metadata": {},
   "source": [
    "**Esercizio 4**\n",
    "\n",
    "Assumendo il seguente tipo di dato che descrive alberi n-ari di interi:\n",
    "\n",
    "type ntree =\n",
    "    | Node of int * ntree list\n",
    "\n",
    "Definire in OCaml le funzioni sum e flat con i seguenti tipi\n",
    "    sum : ntree -> int\n",
    "    flat : ntree -> int list\n",
    "\n",
    "tali che:\n",
    " - sum prende un albero e restituisce la somma di tutti i valori memorizzati nei suoi nodi\n",
    " -  flat esegue una visita posticipata dell’albero, ossia restituisce la lista di tutti i valori contenuti nei nodi tenendo conto che, per ogni nodo, la lista prodotta come risultato contiene prima i valori dei figli e poi il valore del nodo stesso.\n",
    "\n",
    "\n",
    "Ad esempio, considerando il seguente albero:\n",
    "\n",
    "let t = Node (1, [Node (2, []);Node (3, [Node (4,[]);Node (5,[])]);Node (6, [])])\n",
    "\n",
    "le funzioni danno i seguenti risultati\n",
    "sum t;; (* restituisce 21 *)\n",
    "flat t;; (* restituisce [2;4;5;3;6;1] *)\n"
   ]
  },
  {
   "cell_type": "code",
   "execution_count": 12,
   "id": "a70c40dc",
   "metadata": {},
   "outputs": [
    {
     "data": {
      "text/plain": [
       "type ntree = Node of int * ntree list\n"
      ]
     },
     "execution_count": 12,
     "metadata": {},
     "output_type": "execute_result"
    }
   ],
   "source": [
    "type ntree = \n",
    "    | Node of int * ntree list ;;"
   ]
  },
  {
   "cell_type": "code",
   "execution_count": 13,
   "id": "9dc3dc46",
   "metadata": {},
   "outputs": [
    {
     "data": {
      "text/plain": [
       "val t : ntree =\n",
       "  Node (1,\n",
       "   [Node (2, []); Node (3, [Node (4, []); Node (5, [])]); Node (6, [])])\n"
      ]
     },
     "execution_count": 13,
     "metadata": {},
     "output_type": "execute_result"
    }
   ],
   "source": [
    "let t = Node (1, [Node (2, []);Node (3, [Node (4,[]);Node (5,[])]);Node (6, [])])"
   ]
  },
  {
   "cell_type": "code",
   "execution_count": 35,
   "id": "a0b4ff34",
   "metadata": {},
   "outputs": [
    {
     "data": {
      "text/plain": [
       "val sum : ntree -> int = <fun>\n"
      ]
     },
     "execution_count": 35,
     "metadata": {},
     "output_type": "execute_result"
    },
    {
     "data": {
      "text/plain": [
       "- : int = 21\n"
      ]
     },
     "execution_count": 35,
     "metadata": {},
     "output_type": "execute_result"
    }
   ],
   "source": [
    "let rec sum tr = \n",
    "    match tr with\n",
    "    | Node (x, []) -> x\n",
    "    | Node (x, lst') -> x + List.fold_left (fun acc subtr -> acc+sum subtr) 0 lst' ;;\n",
    "    \n",
    "sum t ;;\n"
   ]
  },
  {
   "cell_type": "code",
   "execution_count": 63,
   "id": "9c5b63ae",
   "metadata": {},
   "outputs": [
    {
     "data": {
      "text/plain": [
       "val flat : ntree -> int list = <fun>\n"
      ]
     },
     "execution_count": 63,
     "metadata": {},
     "output_type": "execute_result"
    },
    {
     "data": {
      "text/plain": [
       "- : int list = [2; 4; 5; 3; 6; 1]\n"
      ]
     },
     "execution_count": 63,
     "metadata": {},
     "output_type": "execute_result"
    }
   ],
   "source": [
    "let rec flat tr = \n",
    "    match tr with\n",
    "    | Node (x, []) -> [x]\n",
    "    | Node (x, lst') -> List.flatten (List.map flat lst') @ [x] ;;\n",
    "    \n",
    "flat t ;;"
   ]
  },
  {
   "cell_type": "markdown",
   "id": "4fb7e487",
   "metadata": {},
   "source": [
    "**Esercizio 5**\n",
    "\n",
    "Assumendo il seguente tipo di dato che descrive alberi binari “colorati” di interi i cui nodi intermedi possono\n",
    "avere colore nero o rosso, mentre le foglie sono di colore verde:\n",
    "\n",
    "type colored_tree =\n",
    "| BlackNode of int * colored_tree * colored_tree\n",
    "| RedNode of int * colored_tree * colored_tree\n",
    "| GreenLeaf of int\n",
    "\n",
    "\n",
    "si definiscano, usando i costrutti di programmazione funzionale di OCaml, le funzioni color_tree_lists e\n",
    "color_forest_lists con tipi\n",
    "color_tree_lists : colored_tree -> int list * int list * int list\n",
    "color_forest_lists : colored_tree list -> int list * int list * int list\n",
    "tali che:\n",
    "- color_tree_lists ct restituisca una tripla i cui tre elementi sono liste contenenti tutti i valori interi presenti rispettivamente in nodi neri, rossi e verdi dell’albero;\n",
    "\n",
    "- color_forest_lists ctlis esegue lo stesso calcolo di color_tree_lists, ma su una lista di alberi colorati, restituendo una unica tripla i cui elementi contengono tutti i valori presenti rispettivamente in nodi neri, rossi e verdi di tutti gli alberi della lista. (Nota: color_forest_lists può usare al suo interno color_tree_lists. )\n",
    "\n",
    "L’ordine degli elementi nelle varie liste non è importante.\n",
    "\n",
    "Ad esempio, dato il seguente albero colorato\n",
    "let ct = BlackNode (10,RedNode (5,BlackNode (2,GreenLeaf 1,GreenLeaf 2),GreenLeaf 4),RedNode (7,GreenLeaf 2,GreenLeaf 5))\n",
    "\n",
    "abbiamo che color_tree_lists ct restituisce ([10; 2], [5; 7], [1; 2; 4; 2; 5]).\n",
    "\n",
    "Inoltre, data la seguente lista di alberi colorati:\n",
    "let ctlis = [\n",
    "BlackNode (1,\n",
    "GreenLeaf 2,\n",
    "GreenLeaf 3);\n",
    "RedNode (4,\n",
    "GreenLeaf 5,\n",
    "GreenLeaf 6);\n",
    "BlackNode (6,\n",
    "RedNode (7,\n",
    "GreenLeaf 8,\n",
    "GreenLeaf 9),\n",
    "RedNode (10,\n",
    "GreenLeaf 11,\n",
    "GreenLeaf 12))\n",
    "]\n",
    "\n",
    "abbiamo che color_forest_lists ctlis restituisce ([1; 6], [4; 7; 10], [2; 3; 5; 6; 8; 9; 11; 12])."
   ]
  },
  {
   "cell_type": "code",
   "execution_count": 66,
   "id": "639f8227",
   "metadata": {},
   "outputs": [
    {
     "data": {
      "text/plain": [
       "type colored_tree =\n",
       "    BlackNode of int * colored_tree * colored_tree\n",
       "  | RedNode of int * colored_tree * colored_tree\n",
       "  | GreenLeaf of int\n"
      ]
     },
     "execution_count": 66,
     "metadata": {},
     "output_type": "execute_result"
    }
   ],
   "source": [
    "type colored_tree =\n",
    "    | BlackNode of int * colored_tree * colored_tree\n",
    "    | RedNode of int * colored_tree * colored_tree\n",
    "    | GreenLeaf of int\n"
   ]
  },
  {
   "cell_type": "code",
   "execution_count": 67,
   "id": "74c8043b",
   "metadata": {},
   "outputs": [
    {
     "data": {
      "text/plain": [
       "val ct : colored_tree =\n",
       "  BlackNode (10,\n",
       "   RedNode (5, BlackNode (2, GreenLeaf 1, GreenLeaf 2), GreenLeaf 4),\n",
       "   RedNode (7, GreenLeaf 2, GreenLeaf 5))\n"
      ]
     },
     "execution_count": 67,
     "metadata": {},
     "output_type": "execute_result"
    },
    {
     "data": {
      "text/plain": [
       "val ctlis : colored_tree list =\n",
       "  [BlackNode (1, GreenLeaf 2, GreenLeaf 3);\n",
       "   RedNode (4, GreenLeaf 5, GreenLeaf 6);\n",
       "   BlackNode (6, RedNode (7, GreenLeaf 8, GreenLeaf 9),\n",
       "    RedNode (10, GreenLeaf 11, GreenLeaf 12))]\n"
      ]
     },
     "execution_count": 67,
     "metadata": {},
     "output_type": "execute_result"
    }
   ],
   "source": [
    "let ct = BlackNode (10,RedNode (5, BlackNode (2,GreenLeaf 1,GreenLeaf 2),GreenLeaf 4),RedNode (7,GreenLeaf 2,GreenLeaf 5)) ;;\n",
    "let ctlis = [BlackNode (1,GreenLeaf 2,GreenLeaf 3);RedNode (4,GreenLeaf 5,GreenLeaf 6);BlackNode (6,RedNode (7,GreenLeaf 8,GreenLeaf 9),RedNode (10,GreenLeaf 11,GreenLeaf 12))]"
   ]
  },
  {
   "cell_type": "code",
   "execution_count": 105,
   "id": "0bee1ca0",
   "metadata": {},
   "outputs": [
    {
     "data": {
      "text/plain": [
       "val color_tree_lists : colored_tree -> int list * int list * int list = <fun>\n"
      ]
     },
     "execution_count": 105,
     "metadata": {},
     "output_type": "execute_result"
    },
    {
     "data": {
      "text/plain": [
       "val color_forest_lists : colored_tree list -> int list * int list * int list =\n",
       "  <fun>\n"
      ]
     },
     "execution_count": 105,
     "metadata": {},
     "output_type": "execute_result"
    }
   ],
   "source": [
    "let rec color_tree_lists ct = \n",
    "    match ct with\n",
    "    | GreenLeaf x -> ([], [], [x])\n",
    "    | BlackNode (x, left, right) -> let (l1, l2, l3) = color_tree_lists left in\n",
    "                                    let (r1, r2, r3) = color_tree_lists right in\n",
    "                                    (x::r1@l1, r2@l2, r3@l3)\n",
    "    | RedNode(x, left, right) -> let (l1, l2, l3) = color_tree_lists left in\n",
    "                                    let (r1, r2, r3) = color_tree_lists right in\n",
    "                                    (r1@l1, x::r2@l2, r3@l3) ;;\n",
    "    \n",
    "(* Soluzione proposta *)  \n",
    "let color_forest_lists lst = \n",
    "    match lst with\n",
    "    | [] -> ([], [], [])\n",
    "    | x::lis' -> let res = List.map color_tree_lists lis' in \n",
    "                 let merge (x,y,z) (a,b,c) = (x@a, y@b, z@c)  in\n",
    "                 List.fold_left merge ([], [], []) res ;;"
   ]
  },
  {
   "cell_type": "code",
   "execution_count": null,
   "id": "1e75e377",
   "metadata": {},
   "outputs": [],
   "source": []
  }
 ],
 "metadata": {
  "kernelspec": {
   "display_name": "OCaml default",
   "language": "OCaml",
   "name": "ocaml-jupyter"
  },
  "language_info": {
   "codemirror_mode": "text/x-ocaml",
   "file_extension": ".ml",
   "mimetype": "text/x-ocaml",
   "name": "OCaml",
   "nbconverter_exporter": null,
   "pygments_lexer": "OCaml",
   "version": "4.08.1"
  }
 },
 "nbformat": 4,
 "nbformat_minor": 5
}
