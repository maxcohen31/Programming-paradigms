{
 "cells": [
  {
   "cell_type": "markdown",
   "id": "a4f21af6",
   "metadata": {},
   "source": [
    "## Esercitazione di Paradigmi del 28/10/2024"
   ]
  },
  {
   "cell_type": "markdown",
   "id": "ffd7c323",
   "metadata": {},
   "source": [
    "### Type Inference"
   ]
  },
  {
   "cell_type": "code",
   "execution_count": 1,
   "id": "ead3560d",
   "metadata": {},
   "outputs": [
    {
     "data": {
      "text/plain": [
       "- : (int * float) list = [(3, 10.2); (3, 2.1)]\n"
      ]
     },
     "execution_count": 1,
     "metadata": {},
     "output_type": "execute_result"
    }
   ],
   "source": [
    "(3, 10.2)::(3, 2.1)::[] ;; (* int - float list *)"
   ]
  },
  {
   "cell_type": "code",
   "execution_count": 2,
   "id": "f2fdda5f",
   "metadata": {},
   "outputs": [
    {
     "data": {
      "text/plain": [
       "- : 'a list list = [[]]\n"
      ]
     },
     "execution_count": 2,
     "metadata": {},
     "output_type": "execute_result"
    }
   ],
   "source": [
    "[]::[] ;; (* a list list [[]] *)"
   ]
  },
  {
   "cell_type": "code",
   "execution_count": 3,
   "id": "49483ae7",
   "metadata": {},
   "outputs": [
    {
     "data": {
      "text/plain": [
       "- : bool -> int -> bool * bool = <fun>\n"
      ]
     },
     "execution_count": 3,
     "metadata": {},
     "output_type": "execute_result"
    }
   ],
   "source": [
    "fun x -> fun y -> (x, if y>0 then x else y<10) ;; (* y<0 è bool quindi per coerenza dei tipi x deve essere bool *)"
   ]
  },
  {
   "cell_type": "code",
   "execution_count": 5,
   "id": "abddff4b",
   "metadata": {},
   "outputs": [
    {
     "data": {
      "text/plain": [
       "- : int -> int = <fun>\n"
      ]
     },
     "execution_count": 5,
     "metadata": {},
     "output_type": "execute_result"
    }
   ],
   "source": [
    "(fun x -> fun y -> x+y) 10; (* x e y interi -> int *)"
   ]
  },
  {
   "cell_type": "code",
   "execution_count": 6,
   "id": "9c77e7d9",
   "metadata": {},
   "outputs": [
    {
     "data": {
      "text/plain": [
       "val f : bool -> int * int -> int -> int list = <fun>\n"
      ]
     },
     "execution_count": 6,
     "metadata": {},
     "output_type": "execute_result"
    }
   ],
   "source": [
    "let f x y z =\n",
    "    if x then []\n",
    "    else match y with\n",
    "    | (0, 0) -> []\n",
    "    | (n1, n2) -> z::[n1;n2] ;;\n",
    "    \n",
    "(* f restituisce una lista. x è un bool e y una coppia di interi; z allora è int *)"
   ]
  },
  {
   "cell_type": "code",
   "execution_count": 7,
   "id": "8c574f46",
   "metadata": {},
   "outputs": [
    {
     "data": {
      "text/plain": [
       "val g : int -> 'a list -> 'a -> 'a list = <fun>\n"
      ]
     },
     "execution_count": 7,
     "metadata": {},
     "output_type": "execute_result"
    }
   ],
   "source": [
    "let g x y z = \n",
    "    let k = 10 in\n",
    "    if x=k then y\n",
    "    else [z] ;;\n",
    "\n",
    "(* x è int; y e z devo essere dello stesso tipo: lista generica *)"
   ]
  },
  {
   "cell_type": "markdown",
   "id": "1808f2e0",
   "metadata": {},
   "source": [
    "#### Scrivere una funzione somma_positiva che data una lista di interi restituisce la somma degli elementi positivi"
   ]
  },
  {
   "cell_type": "code",
   "execution_count": 10,
   "id": "205f7e1f",
   "metadata": {},
   "outputs": [
    {
     "data": {
      "text/plain": [
       "val somma_positivi : int list -> int = <fun>\n"
      ]
     },
     "execution_count": 10,
     "metadata": {},
     "output_type": "execute_result"
    },
    {
     "data": {
      "text/plain": [
       "- : int = 5\n"
      ]
     },
     "execution_count": 10,
     "metadata": {},
     "output_type": "execute_result"
    }
   ],
   "source": [
    "let rec somma_positivi lis = \n",
    "    match lis with\n",
    "    | [] -> 0\n",
    "    | x::lis' -> if (x > 0) then x + somma_positivi lis' else somma_positivi lis' ;;\n",
    "    \n",
    "somma_positivi [3; 0; -1; 2; -4] (* 5 *)"
   ]
  },
  {
   "cell_type": "markdown",
   "id": "a7701a8d",
   "metadata": {},
   "source": [
    "#### Scrivere una funzione ricorsiva somma_liste che date due liste [x1;...;xn] e [y1;...;yn] di uguale lunghezza restituisca la lista [x1+y1;....;xn+yn]. Se le liste sono di lunghezze diverse, la funzione restituisce la lista vuota"
   ]
  },
  {
   "cell_type": "code",
   "execution_count": 24,
   "id": "8eae0305",
   "metadata": {},
   "outputs": [
    {
     "data": {
      "text/plain": [
       "val somma_liste : int list -> int list -> int list = <fun>\n"
      ]
     },
     "execution_count": 24,
     "metadata": {},
     "output_type": "execute_result"
    },
    {
     "data": {
      "text/plain": [
       "- : int list = [5; 7; 9]\n"
      ]
     },
     "execution_count": 24,
     "metadata": {},
     "output_type": "execute_result"
    },
    {
     "data": {
      "text/plain": [
       "- : int list = []\n"
      ]
     },
     "execution_count": 24,
     "metadata": {},
     "output_type": "execute_result"
    }
   ],
   "source": [
    "let rec somma_liste lis1 lis2 = \n",
    "    if List.length lis1 <> List.length lis2 then [] else \n",
    "    match (lis1, lis2) with\n",
    "    | (x::lis1', y::lis2') -> x+y::somma_liste lis1' lis2'\n",
    "    | (_, _) -> [] ;;\n",
    "    \n",
    "somma_liste [1; 2; 3] [4; 5; 6] ;;\n",
    "somma_liste [] [4; 5]"
   ]
  },
  {
   "cell_type": "markdown",
   "id": "292cba64",
   "metadata": {},
   "source": [
    "#### Scrivere una funzione ricorsiva parentesi_bilanciate che, data una lista lis di caratteri, restituisce true se la lista contiene una sequenza di caratteri '(' e ')' bilanciata. \n",
    "#### Esempio: ['(';'(';')';'(';'(';')';')';')'] restituisce true"
   ]
  },
  {
   "cell_type": "code",
   "execution_count": 42,
   "id": "3529ef72",
   "metadata": {},
   "outputs": [
    {
     "data": {
      "text/plain": [
       "val count_char : char -> int -> int = <fun>\n"
      ]
     },
     "execution_count": 42,
     "metadata": {},
     "output_type": "execute_result"
    },
    {
     "data": {
      "text/plain": [
       "val parentesi_bilanciate : char list -> int -> bool = <fun>\n"
      ]
     },
     "execution_count": 42,
     "metadata": {},
     "output_type": "execute_result"
    },
    {
     "data": {
      "text/plain": [
       "- : bool = true\n"
      ]
     },
     "execution_count": 42,
     "metadata": {},
     "output_type": "execute_result"
    },
    {
     "data": {
      "text/plain": [
       "- : bool = false\n"
      ]
     },
     "execution_count": 42,
     "metadata": {},
     "output_type": "execute_result"
    },
    {
     "data": {
      "text/plain": [
       "- : bool = true\n"
      ]
     },
     "execution_count": 42,
     "metadata": {},
     "output_type": "execute_result"
    }
   ],
   "source": [
    "let count_char c x =\n",
    "    match c with\n",
    "    | '(' -> x+1\n",
    "    | ')' -> x-1\n",
    "    | _ -> x ;;\n",
    "    \n",
    "let rec parentesi_bilanciate lis acc = \n",
    "    match lis with\n",
    "    | [] -> true\n",
    "    | el::lis' -> let counter = count_char el acc \n",
    "        in if (counter < 0) then false else parentesi_bilanciate lis' counter;;\n",
    "        \n",
    "\n",
    "parentesi_bilanciate ['(';'(';')';'(';'(';')';')';')'] 0 ;;\n",
    "parentesi_bilanciate [')'; '('] 0 ;;\n",
    "parentesi_bilanciate [] 0"
   ]
  },
  {
   "cell_type": "markdown",
   "id": "b89d5422",
   "metadata": {},
   "source": [
    "#### Riscrivere l'esercizio somma_positivi con fold_right o fold_left"
   ]
  },
  {
   "cell_type": "code",
   "execution_count": 15,
   "id": "1a0e86c4",
   "metadata": {},
   "outputs": [
    {
     "data": {
      "text/plain": [
       "val positive : int -> int -> int = <fun>\n"
      ]
     },
     "execution_count": 15,
     "metadata": {},
     "output_type": "execute_result"
    },
    {
     "data": {
      "text/plain": [
       "val somma_positivi2 : int list -> int = <fun>\n"
      ]
     },
     "execution_count": 15,
     "metadata": {},
     "output_type": "execute_result"
    },
    {
     "data": {
      "text/plain": [
       "- : int = 7\n"
      ]
     },
     "execution_count": 15,
     "metadata": {},
     "output_type": "execute_result"
    }
   ],
   "source": [
    "let positive x acc = if (x > 0) then x + acc else acc ;;\n",
    "let somma_positivi2 lis = List.fold_right positive lis 0 ;;\n",
    "\n",
    "somma_positivi2 [0; -2; 2; 5; -3]"
   ]
  }
 ],
 "metadata": {
  "kernelspec": {
   "display_name": "OCaml default",
   "language": "OCaml",
   "name": "ocaml-jupyter"
  },
  "language_info": {
   "codemirror_mode": "text/x-ocaml",
   "file_extension": ".ml",
   "mimetype": "text/x-ocaml",
   "name": "OCaml",
   "nbconverter_exporter": null,
   "pygments_lexer": "OCaml",
   "version": "4.08.1"
  }
 },
 "nbformat": 4,
 "nbformat_minor": 5
}
