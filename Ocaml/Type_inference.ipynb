{
 "cells": [
  {
   "cell_type": "markdown",
   "id": "ebd927c5",
   "metadata": {},
   "source": [
    "### Esercizi sul type inference"
   ]
  },
  {
   "cell_type": "markdown",
   "id": "1d5b89a9",
   "metadata": {},
   "source": [
    "**Esercizio 1**"
   ]
  },
  {
   "cell_type": "code",
   "execution_count": 1,
   "id": "c9ac49e3",
   "metadata": {},
   "outputs": [
    {
     "data": {
      "text/plain": [
       "- : int * (int -> int) -> bool = <fun>\n"
      ]
     },
     "execution_count": 1,
     "metadata": {},
     "output_type": "execute_result"
    }
   ],
   "source": [
    "fun x -> match x with\n",
    "    | (1,f) -> true\n",
    "    | (n,f) -> (f n) > 0 ;;"
   ]
  },
  {
   "cell_type": "markdown",
   "id": "3221d28d",
   "metadata": {},
   "source": [
    "x è una tupla composta da un int e una funzione. Il tipo di n è int. La funzione restituisce un bool."
   ]
  },
  {
   "cell_type": "markdown",
   "id": "66969028",
   "metadata": {},
   "source": [
    "**Esercizio 2**"
   ]
  },
  {
   "cell_type": "code",
   "execution_count": 4,
   "id": "5453918a",
   "metadata": {},
   "outputs": [
    {
     "data": {
      "text/plain": [
       "val f : ('a -> 'b) list -> 'a -> 'b -> 'b = <fun>\n"
      ]
     },
     "execution_count": 4,
     "metadata": {},
     "output_type": "execute_result"
    }
   ],
   "source": [
    "let f x y z = \n",
    "    match x with\n",
    "    | [] -> z\n",
    "    | w::ws -> (w y) ;;"
   ]
  },
  {
   "cell_type": "markdown",
   "id": "8acd8d38",
   "metadata": {},
   "source": [
    "x è una lista di funzioni (a -> b). w è una funzione applicata a y che avrà quindi tipo a. z ,infine, avrà tipo b."
   ]
  },
  {
   "cell_type": "markdown",
   "id": "a6b1fbe6",
   "metadata": {},
   "source": [
    "**Esercizio 3**"
   ]
  },
  {
   "cell_type": "code",
   "execution_count": 2,
   "id": "ed3b545a",
   "metadata": {},
   "outputs": [
    {
     "data": {
      "text/plain": [
       "val f : char * int -> char -> char -> char = <fun>\n"
      ]
     },
     "execution_count": 2,
     "metadata": {},
     "output_type": "execute_result"
    }
   ],
   "source": [
    "let f x y z = \n",
    "    match x with \n",
    "    | ('a', 1) -> y\n",
    "    | (x1, x2) -> if (x1 = y) then z else failwith \"Error\" ;;"
   ]
  },
  {
   "cell_type": "markdown",
   "id": "75c9a972",
   "metadata": {},
   "source": [
    "x è una tupla (char * int). y e zeta condividono lo stesso tipo facendo parte di if-else. Anche x1 ha tipo uguale a y. x1 avrà tipo char dato che la struttura è (char * int) e così possiamo dire che y e z hanno tipo char e che la funzione f restituisce un char. "
   ]
  },
  {
   "cell_type": "markdown",
   "id": "694e2af7",
   "metadata": {},
   "source": [
    "**Esercizio 4**"
   ]
  },
  {
   "cell_type": "code",
   "execution_count": 3,
   "id": "66b7702b",
   "metadata": {},
   "outputs": [
    {
     "data": {
      "text/plain": [
       "val f : ('a -> int) -> 'a -> bool = <fun>\n"
      ]
     },
     "execution_count": 3,
     "metadata": {},
     "output_type": "execute_result"
    }
   ],
   "source": [
    "let f g x = (g x) = 3 ;;"
   ]
  },
  {
   "cell_type": "markdown",
   "id": "f290e0e4",
   "metadata": {},
   "source": [
    "f è una funzione che prende come parametri g e x. g è una funzione che prende x e siccome c'è un'uguaglianza con un intero il tipo di g è int. Il tipo di x è 'a.\n",
    "\n",
    "f: ('a -> int) -> 'a -> bool"
   ]
  },
  {
   "cell_type": "markdown",
   "id": "4ff33494",
   "metadata": {},
   "source": [
    "**Esercizio 5**\n"
   ]
  },
  {
   "cell_type": "code",
   "execution_count": 5,
   "id": "a113fa9d",
   "metadata": {},
   "outputs": [
    {
     "data": {
      "text/plain": [
       "- : (int * int -> int) -> int = <fun>\n"
      ]
     },
     "execution_count": 5,
     "metadata": {},
     "output_type": "execute_result"
    }
   ],
   "source": [
    "(fun x -> fun y -> (y x) + 1)(3, 4) ;;"
   ]
  },
  {
   "cell_type": "markdown",
   "id": "cec7d204",
   "metadata": {},
   "source": [
    "Il tipo di yx + 1 è un intero a causa del + 1. y viene applicata a x e affichè si possa sommare con 1 x deve essere di tipo intero. La funzione si applica alla tupla (3, 4) e si deduce che restituisce un intero.\n",
    "\n",
    "-: (int * int -> int) -> int"
   ]
  },
  {
   "cell_type": "markdown",
   "id": "d8040b30",
   "metadata": {},
   "source": [
    "**Esercizio 6**"
   ]
  },
  {
   "cell_type": "code",
   "execution_count": 6,
   "id": "e97177b8",
   "metadata": {},
   "outputs": [
    {
     "data": {
      "text/plain": [
       "val f : ('a -> 'b list) -> 'a -> ('a -> int) -> int = <fun>\n"
      ]
     },
     "execution_count": 6,
     "metadata": {},
     "output_type": "execute_result"
    }
   ],
   "source": [
    "let f x y z = \n",
    "    match (x y) with\n",
    "    | [] -> (z y)\n",
    "    | _::_ -> (z y) + 1 ;;"
   ]
  },
  {
   "cell_type": "markdown",
   "id": "1430d9e2",
   "metadata": {},
   "source": [
    "Partiamo da (x y). x viene applicata a y. All'inizio x: 'a -> b list.\n",
    "\n",
    "Poichè y viene passato come argomento a x, y avrà tipo 'a.\n",
    "L'ultimo caso del pattern matching ci dice che il risultato è un intero.\n",
    "(z y) ci dice che z viene applicata a y, quindi z prende come tipo 'a.\n",
    "Il tipo sarà ('a -> 'b list) -> 'a -> ('a -> int) -> int"
   ]
  },
  {
   "cell_type": "markdown",
   "id": "b9324a7e",
   "metadata": {},
   "source": [
    "**Esercizio 7**"
   ]
  },
  {
   "cell_type": "code",
   "execution_count": 8,
   "id": "b4b7fc45",
   "metadata": {},
   "outputs": [
    {
     "data": {
      "text/plain": [
       "- : ('a -> 'a -> 'b) -> 'a -> 'b = <fun>\n"
      ]
     },
     "execution_count": 8,
     "metadata": {},
     "output_type": "execute_result"
    }
   ],
   "source": [
    "fun x -> fun y -> (x y y) ;;"
   ]
  },
  {
   "cell_type": "markdown",
   "id": "68835f03",
   "metadata": {},
   "source": [
    "x è una funzione che prende due argomenti dello stesso tipo. \n",
    "x prende un tipo 'a un altro tipo 'a e restituisce un tipo 'b.\n",
    "Il tipo di y sarà quindi 'a.\n",
    "Il tipo di (x y y) è 'b.\n",
    "\n",
    "('a' -> 'a -> 'b) -> 'a -> 'b"
   ]
  },
  {
   "cell_type": "markdown",
   "id": "f8ea0440",
   "metadata": {},
   "source": [
    "**Esercizio 8**"
   ]
  },
  {
   "cell_type": "code",
   "execution_count": 9,
   "id": "40f381e2",
   "metadata": {},
   "outputs": [
    {
     "data": {
      "text/plain": [
       "val f : int list -> (int -> 'a) -> 'a = <fun>\n"
      ]
     },
     "execution_count": 9,
     "metadata": {},
     "output_type": "execute_result"
    }
   ],
   "source": [
    "let f x y =\n",
    "    match x with\n",
    "    | [] -> y 0\n",
    "    | z::z' -> y z ;;"
   ]
  },
  {
   "cell_type": "markdown",
   "id": "d25e4916",
   "metadata": {},
   "source": [
    "Il tipo di x è una 'a list. z è un elemento di x che quindi avrà tipo 'a. y viene applicata a z. \n",
    "\n",
    "Dal primo pattern matching y viene applicata ad un intero: z è di tipo int.\n",
    "x è una int list.\n",
    "\n",
    "\n",
    "f : (int list) -> ('a -> int) -> 'a"
   ]
  },
  {
   "cell_type": "markdown",
   "id": "db3d8279",
   "metadata": {},
   "source": [
    "**Esercizio 9**"
   ]
  },
  {
   "cell_type": "code",
   "execution_count": 10,
   "id": "64715df6",
   "metadata": {},
   "outputs": [
    {
     "data": {
      "text/plain": [
       "- : int * (int -> int) -> bool = <fun>\n"
      ]
     },
     "execution_count": 10,
     "metadata": {},
     "output_type": "execute_result"
    }
   ],
   "source": [
    "fun x -> \n",
    "    match x with\n",
    "        | (1,f) -> true\n",
    "        | (n,f) -> (f n) > 0"
   ]
  },
  {
   "cell_type": "markdown",
   "id": "2de66ed3",
   "metadata": {},
   "source": [
    "x è una tupla (int, int -> int)\n",
    "La funzione restituisce bool."
   ]
  },
  {
   "cell_type": "markdown",
   "id": "770c4c91",
   "metadata": {},
   "source": [
    "**Esercizio 10**"
   ]
  },
  {
   "cell_type": "code",
   "execution_count": 12,
   "id": "65ca01a9",
   "metadata": {},
   "outputs": [
    {
     "data": {
      "text/plain": [
       "val f : 'a list -> int -> bool list -> int list = <fun>\n"
      ]
     },
     "execution_count": 12,
     "metadata": {},
     "output_type": "execute_result"
    }
   ],
   "source": [
    "let f x y z =\n",
    "    if x=[] then [y]\n",
    "        else match z with\n",
    "            | [] -> (y+1)::[]\n",
    "            | z1::z' -> if z1 then [y] else [];;"
   ]
  },
  {
   "cell_type": "markdown",
   "id": "0e650228",
   "metadata": {},
   "source": [
    "Dal primo pattern matching y è di tipo int. x e z sono due liste. Ma di che tipo?\n",
    "x è una 'a list e z è una bool list: lo si deduce da 'if z1'. \n",
    "Il risultato è una int list.\n",
    "f : 'a list -> int -> bool list -> int list"
   ]
  },
  {
   "cell_type": "markdown",
   "id": "0cc43f6e",
   "metadata": {},
   "source": [
    "**Esercizio 11**"
   ]
  },
  {
   "cell_type": "code",
   "execution_count": 13,
   "id": "74b3a40b",
   "metadata": {},
   "outputs": [
    {
     "data": {
      "text/plain": [
       "- : int * ('a -> bool) -> 'a -> bool = <fun>\n"
      ]
     },
     "execution_count": 13,
     "metadata": {},
     "output_type": "execute_result"
    }
   ],
   "source": [
    "fun x -> fun y -> match x with\n",
    "    | (1,f) -> true\n",
    "    | (n,f) -> (f y)"
   ]
  },
  {
   "cell_type": "markdown",
   "id": "8eec1ab2",
   "metadata": {},
   "source": [
    "x è una tupla (int, 'a -> bool). Il risultato è bool\n",
    "-: (int * 'a -> bool) -> 'a -> bool"
   ]
  },
  {
   "cell_type": "markdown",
   "id": "41489c5e",
   "metadata": {},
   "source": [
    "**Esercizio 12**"
   ]
  },
  {
   "cell_type": "code",
   "execution_count": 14,
   "id": "6a4463a0",
   "metadata": {},
   "outputs": [
    {
     "data": {
      "text/plain": [
       "val f : bool -> int * bool -> bool = <fun>\n"
      ]
     },
     "execution_count": 14,
     "metadata": {},
     "output_type": "execute_result"
    }
   ],
   "source": [
    "let f x y =\n",
    "    if x then\n",
    "        match y with\n",
    "            | (0,b) -> b\n",
    "            | (_,b) -> x\n",
    "    else x;;"
   ]
  },
  {
   "cell_type": "markdown",
   "id": "4d1186dc",
   "metadata": {},
   "source": [
    "Dal ramo if-else si capisce che x è di tipo bool.\n",
    "Il pattern matching ci dice che y è una tupla (int, 'a). \n",
    "Il secondo caso di pattern matching dice che se (_, b) restituisce x, ma se x è un bool allora anche b condividerà lo stesso tipo di x.\n",
    "\n",
    "Questo ci porta a dire che f: bool -> (int * bool) -> bool"
   ]
  },
  {
   "cell_type": "markdown",
   "id": "bb37e80e",
   "metadata": {},
   "source": [
    "**Esercizio 13**"
   ]
  },
  {
   "cell_type": "code",
   "execution_count": 15,
   "id": "44295505",
   "metadata": {},
   "outputs": [
    {
     "data": {
      "text/plain": [
       "val test : bool -> int * 'a * int -> bool = <fun>\n"
      ]
     },
     "execution_count": 15,
     "metadata": {},
     "output_type": "execute_result"
    }
   ],
   "source": [
    "let test x y =\n",
    "    match y with\n",
    "        | (0,_,a) -> a=0\n",
    "        | (_,_,a) -> if x then a=0 else x;;"
   ]
  },
  {
   "cell_type": "markdown",
   "id": "f6fc91b3",
   "metadata": {},
   "source": [
    "La funzione test prende due parametri x e y.\n",
    "Dal secondo pattern matching si deduce che x ha tipo bool. \n",
    "y è una tupla (int * 'a * int). La funzione test restituisce bool\n",
    "\n",
    "test: bool -> (int * 'a * int) -> bool"
   ]
  },
  {
   "cell_type": "markdown",
   "id": "f7998af0",
   "metadata": {},
   "source": [
    "**Esercizio 14**"
   ]
  },
  {
   "cell_type": "code",
   "execution_count": 16,
   "id": "6a5ab891",
   "metadata": {},
   "outputs": [
    {
     "data": {
      "text/plain": [
       "val f : (int * bool -> bool) -> int * bool -> bool -> bool = <fun>\n"
      ]
     },
     "execution_count": 16,
     "metadata": {},
     "output_type": "execute_result"
    }
   ],
   "source": [
    "let f h x y =\n",
    "    if (h x) then match x with\n",
    "        | (0,k) -> k\n",
    "        | (_,k) -> (h x)\n",
    "    else y ;;"
   ]
  },
  {
   "cell_type": "markdown",
   "id": "d2fd6c40",
   "metadata": {},
   "source": [
    "Dal pattern matching x è una tupla (int * 'a). \n",
    "k e y condividono lo stesso tipo. h è una funzione che prende una tupla e restituisce bool.\n",
    "h: (int * 'a) -> bool. Tuttavia notiamo che nel secondo caso del pattern matching viene restituito (h x), si può dedurre, quindi, che k e y sono di tipo bool.\n",
    "\n",
    "f: (int * bool -> bool) -> (int * bool) -> bool -> bool"
   ]
  },
  {
   "cell_type": "code",
   "execution_count": null,
   "id": "e5fccbef",
   "metadata": {},
   "outputs": [],
   "source": []
  }
 ],
 "metadata": {
  "kernelspec": {
   "display_name": "OCaml default",
   "language": "OCaml",
   "name": "ocaml-jupyter"
  },
  "language_info": {
   "codemirror_mode": "text/x-ocaml",
   "file_extension": ".ml",
   "mimetype": "text/x-ocaml",
   "name": "OCaml",
   "nbconverter_exporter": null,
   "pygments_lexer": "OCaml",
   "version": "4.08.1"
  }
 },
 "nbformat": 4,
 "nbformat_minor": 5
}
