{
 "cells": [
  {
   "cell_type": "markdown",
   "id": "9d6ad37c",
   "metadata": {},
   "source": [
    "### OCaml Exercises\n",
    "\n",
    "Some exercises are taken from https://ocaml.org/exercises others, instead, have been invented by me"
   ]
  },
  {
   "cell_type": "markdown",
   "id": "e7b93c78",
   "metadata": {},
   "source": [
    "**1. Write a function last : 'a list -> 'a option that returns the last element of a list**"
   ]
  },
  {
   "cell_type": "code",
   "execution_count": 1,
   "id": "03d950ec",
   "metadata": {},
   "outputs": [
    {
     "data": {
      "text/plain": [
       "val last : 'a list -> 'a option = <fun>\n"
      ]
     },
     "execution_count": 1,
     "metadata": {},
     "output_type": "execute_result"
    },
    {
     "data": {
      "text/plain": [
       "- : string option = Some \"c\"\n"
      ]
     },
     "execution_count": 1,
     "metadata": {},
     "output_type": "execute_result"
    }
   ],
   "source": [
    "let rec last lista =\n",
    "    match lista with\n",
    "    | [] -> None\n",
    "    | [x] -> Some x \n",
    "    | _::lista' -> last lista' ;;\n",
    "\n",
    "last [\"a\"; \"b\"; \"c\"] ;;"
   ]
  },
  {
   "cell_type": "markdown",
   "id": "07b13282",
   "metadata": {},
   "source": [
    "**2. Find the last two (last and penultimate) elements of a list.**"
   ]
  },
  {
   "cell_type": "code",
   "execution_count": 2,
   "id": "d7597515",
   "metadata": {},
   "outputs": [
    {
     "data": {
      "text/plain": [
       "val last_two : 'a list -> 'a list option = <fun>\n"
      ]
     },
     "execution_count": 2,
     "metadata": {},
     "output_type": "execute_result"
    },
    {
     "data": {
      "text/plain": [
       "- : int list option = Some [7; 9]\n"
      ]
     },
     "execution_count": 2,
     "metadata": {},
     "output_type": "execute_result"
    }
   ],
   "source": [
    "let rec last_two list =\n",
    "    match list with\n",
    "    | [] -> None\n",
    "    | [x; y] -> Some [x; y]\n",
    "    | _::list' -> last_two list' ;;\n",
    "    \n",
    "last_two [1; 3; 5; 7; 9] ;;\n"
   ]
  },
  {
   "cell_type": "markdown",
   "id": "c3427f24",
   "metadata": {},
   "source": [
    "**3. Find the N'th element of a list.**\n",
    "\n",
    "**Remark: OCaml has List.nth which numbers elements from 0 and raises an exception if the index is out of bounds.**"
   ]
  },
  {
   "cell_type": "code",
   "execution_count": 3,
   "id": "8c06998b",
   "metadata": {},
   "outputs": [
    {
     "data": {
      "text/plain": [
       "val find_nth : 'a list -> int -> 'a option = <fun>\n"
      ]
     },
     "execution_count": 3,
     "metadata": {},
     "output_type": "execute_result"
    },
    {
     "data": {
      "text/plain": [
       "- : int option = Some 7\n"
      ]
     },
     "execution_count": 3,
     "metadata": {},
     "output_type": "execute_result"
    }
   ],
   "source": [
    "let rec find_nth list id =\n",
    "    match list with\n",
    "    | [] -> None\n",
    "    | x::list' -> if (id = 0) then Some x else find_nth list' (id-1) ;;\n",
    "    \n",
    "find_nth [1; 3; 5; 7; 9] 3;;"
   ]
  },
  {
   "cell_type": "markdown",
   "id": "f32a3994",
   "metadata": {},
   "source": [
    "**4. Reverse a list**"
   ]
  },
  {
   "cell_type": "code",
   "execution_count": 4,
   "id": "047f50dc",
   "metadata": {},
   "outputs": [
    {
     "data": {
      "text/plain": [
       "val reverse : 'a list -> 'a list = <fun>\n"
      ]
     },
     "execution_count": 4,
     "metadata": {},
     "output_type": "execute_result"
    },
    {
     "data": {
      "text/plain": [
       "- : int list = [9; 7; 5; 3; 1]\n"
      ]
     },
     "execution_count": 4,
     "metadata": {},
     "output_type": "execute_result"
    }
   ],
   "source": [
    "let rec reverse list =\n",
    "    match list with\n",
    "    | [] -> []\n",
    "    | x::list' -> reverse list' @ [x] ;;\n",
    "\n",
    "reverse [1; 3; 5; 7; 9] ;;"
   ]
  },
  {
   "cell_type": "markdown",
   "id": "12cbbe9c",
   "metadata": {},
   "source": [
    "**5. Length of a list**"
   ]
  },
  {
   "cell_type": "code",
   "execution_count": 5,
   "id": "ef373334",
   "metadata": {},
   "outputs": [
    {
     "data": {
      "text/plain": [
       "val len : 'a list -> int = <fun>\n"
      ]
     },
     "execution_count": 5,
     "metadata": {},
     "output_type": "execute_result"
    },
    {
     "data": {
      "text/plain": [
       "- : int = 5\n"
      ]
     },
     "execution_count": 5,
     "metadata": {},
     "output_type": "execute_result"
    }
   ],
   "source": [
    "let len list = \n",
    "    let rec helper acc = function\n",
    "        | [] -> acc\n",
    "        | x::list' -> helper (acc + 1) list'\n",
    "    in helper 0 list ;;\n",
    "\n",
    "len [1; 3; 5; 7; 9] ;;"
   ]
  },
  {
   "cell_type": "markdown",
   "id": "d6f10e91",
   "metadata": {},
   "source": [
    "**6. Run-Length Encoding**\n",
    "\n",
    "encode [\"a\"; \"a\"; \"a\"; \"a\"; \"b\"; \"c\"; \"c\"; \"a\"; \"a\"; \"d\"; \"e\"; \"e\"; \"e\"; \"e\"];;\n",
    "- : (int * string) list =\n",
    "[(4, \"a\"); (1, \"b\"); (2, \"c\"); (2, \"a\"); (1, \"d\"); (4, \"e\")]"
   ]
  },
  {
   "cell_type": "code",
   "execution_count": 6,
   "id": "edbdd5e0",
   "metadata": {},
   "outputs": [
    {
     "data": {
      "text/plain": [
       "val encode : 'a list -> ('a * int) list = <fun>\n"
      ]
     },
     "execution_count": 6,
     "metadata": {},
     "output_type": "execute_result"
    },
    {
     "data": {
      "text/plain": [
       "- : (string * int) list =\n",
       "[(\"a\", 4); (\"b\", 1); (\"c\", 2); (\"a\", 2); (\"d\", 1); (\"e\", 4)]\n"
      ]
     },
     "execution_count": 6,
     "metadata": {},
     "output_type": "execute_result"
    }
   ],
   "source": [
    "let encode list = \n",
    "    let rec helper acc c = function\n",
    "    | [] -> [] \n",
    "    | [x] -> (x, c+1)::acc\n",
    "    (* si guardano due elementi consecutivi: se x = y il contatore aumenta di uno\n",
    "       altrimenti il contatore si resetta e e aggiungiamo la nuova tupla *)\n",
    "    | x::(y::list') -> if (x = y) then helper acc (c+1) (x::list') else helper ((x, c+1)::acc) 0 (y::list')\n",
    "    in List.rev (helper [] 0 list) ;;\n",
    "    \n",
    "encode [\"a\"; \"a\"; \"a\"; \"a\"; \"b\"; \"c\"; \"c\"; \"a\"; \"a\"; \"d\"; \"e\"; \"e\"; \"e\"; \"e\"];;"
   ]
  },
  {
   "cell_type": "markdown",
   "id": "4189cfd7",
   "metadata": {},
   "source": [
    "**7. Duplicate the element of a list**"
   ]
  },
  {
   "cell_type": "code",
   "execution_count": 7,
   "id": "d6eb004a",
   "metadata": {},
   "outputs": [
    {
     "data": {
      "text/plain": [
       "val duplicate_element : 'a list -> 'a list = <fun>\n"
      ]
     },
     "execution_count": 7,
     "metadata": {},
     "output_type": "execute_result"
    },
    {
     "data": {
      "text/plain": [
       "- : int list = [1; 1; 2; 2; 3; 3]\n"
      ]
     },
     "execution_count": 7,
     "metadata": {},
     "output_type": "execute_result"
    }
   ],
   "source": [
    "let rec duplicate_element list = \n",
    "    match list with\n",
    "    | [] -> []\n",
    "    | x::list' -> (x::x::duplicate_element list') ;;\n",
    "    \n",
    "duplicate_element [1;2;3] ;;"
   ]
  },
  {
   "cell_type": "markdown",
   "id": "86c49bf5",
   "metadata": {},
   "source": [
    "**8. Split a List Into Two Parts; The Length of the First Part Is Given**"
   ]
  },
  {
   "cell_type": "code",
   "execution_count": 8,
   "id": "e4abe00d",
   "metadata": {},
   "outputs": [
    {
     "data": {
      "text/plain": [
       "val split : 'a list -> int -> 'a list * 'a list = <fun>\n"
      ]
     },
     "execution_count": 8,
     "metadata": {},
     "output_type": "execute_result"
    },
    {
     "data": {
      "text/plain": [
       "- : string list * string list =\n",
       "([\"a\"; \"a\"], [\"a\"; \"a\"; \"b\"; \"c\"; \"c\"; \"a\"; \"a\"; \"d\"; \"e\"; \"e\"; \"e\"; \"e\"])\n"
      ]
     },
     "execution_count": 8,
     "metadata": {},
     "output_type": "execute_result"
    }
   ],
   "source": [
    "let split list n = \n",
    "    let rec helper acc c = function\n",
    "    | [] -> acc, [] (* lista vuota ritorna l'accumulatore e la lista vuota *)\n",
    "    | x::list' -> if (c = 0) then acc, x::list' else helper (x::acc) (c-1) list'\n",
    "    in helper [] n list ;;\n",
    "    \n",
    "split [\"a\"; \"a\"; \"a\"; \"a\"; \"b\"; \"c\"; \"c\"; \"a\"; \"a\"; \"d\"; \"e\"; \"e\"; \"e\"; \"e\"] 2 ;;"
   ]
  },
  {
   "cell_type": "markdown",
   "id": "7dbe4520",
   "metadata": {},
   "source": [
    "**9. Create a List Containing All Integers Within a Given Range**"
   ]
  },
  {
   "cell_type": "code",
   "execution_count": 9,
   "id": "ee8580b4",
   "metadata": {},
   "outputs": [
    {
     "data": {
      "text/plain": [
       "val range : int -> int -> int list = <fun>\n"
      ]
     },
     "execution_count": 9,
     "metadata": {},
     "output_type": "execute_result"
    },
    {
     "data": {
      "text/plain": [
       "- : int list = [4; 5; 6; 7; 8; 9]\n"
      ]
     },
     "execution_count": 9,
     "metadata": {},
     "output_type": "execute_result"
    }
   ],
   "source": [
    "let rec range x y = \n",
    "    if (x > y) then [] else x::range (x+1) y  ;;\n",
    "    \n",
    "range 4 9 ;;"
   ]
  },
  {
   "cell_type": "markdown",
   "id": "32ea3a88",
   "metadata": {},
   "source": [
    "**10. Filter function - even numbers**"
   ]
  },
  {
   "cell_type": "code",
   "execution_count": 10,
   "id": "40b3f887",
   "metadata": {},
   "outputs": [
    {
     "data": {
      "text/plain": [
       "val filter : int list -> int list = <fun>\n"
      ]
     },
     "execution_count": 10,
     "metadata": {},
     "output_type": "execute_result"
    },
    {
     "data": {
      "text/plain": [
       "val l : int list = [3; 4; 5; 6]\n"
      ]
     },
     "execution_count": 10,
     "metadata": {},
     "output_type": "execute_result"
    },
    {
     "data": {
      "text/plain": [
       "- : int list = [4; 6]\n"
      ]
     },
     "execution_count": 10,
     "metadata": {},
     "output_type": "execute_result"
    }
   ],
   "source": [
    "let rec filter list = \n",
    "    match list with\n",
    "    | [] -> []\n",
    "    | x::list' -> if (x mod 2 = 0) then x::filter list' else filter list' ;;\n",
    "\n",
    "let l = [3; 4; 5; 6] ;;\n",
    "filter l "
   ]
  },
  {
   "cell_type": "markdown",
   "id": "76ddb303",
   "metadata": {},
   "source": [
    "**11. map**"
   ]
  },
  {
   "cell_type": "code",
   "execution_count": 11,
   "id": "78cabc8a",
   "metadata": {},
   "outputs": [
    {
     "data": {
      "text/plain": [
       "val map : ('a -> 'b) -> 'a list -> 'b list = <fun>\n"
      ]
     },
     "execution_count": 11,
     "metadata": {},
     "output_type": "execute_result"
    },
    {
     "data": {
      "text/plain": [
       "val l : int list = [1; 2; 4]\n"
      ]
     },
     "execution_count": 11,
     "metadata": {},
     "output_type": "execute_result"
    },
    {
     "data": {
      "text/plain": [
       "- : int list = [2; 4; 8]\n"
      ]
     },
     "execution_count": 11,
     "metadata": {},
     "output_type": "execute_result"
    }
   ],
   "source": [
    "let rec map f list =\n",
    "    match list with\n",
    "    | [] -> []\n",
    "    | x::list' -> (f x::map f list') ;;\n",
    "\n",
    "let l = [1; 2; 4] ;;\n",
    "map (fun x -> 2*x) l "
   ]
  },
  {
   "cell_type": "markdown",
   "id": "f0152247",
   "metadata": {},
   "source": [
    "**12. fold_right function**"
   ]
  },
  {
   "cell_type": "code",
   "execution_count": 12,
   "id": "aaf13753",
   "metadata": {},
   "outputs": [
    {
     "data": {
      "text/plain": [
       "val fold_right : ('a -> 'b -> 'b) -> 'a list -> 'b -> 'b = <fun>\n"
      ]
     },
     "execution_count": 12,
     "metadata": {},
     "output_type": "execute_result"
    },
    {
     "data": {
      "text/plain": [
       "- : int = 12\n"
      ]
     },
     "execution_count": 12,
     "metadata": {},
     "output_type": "execute_result"
    }
   ],
   "source": [
    "let rec fold_right f list acc = \n",
    "    match list with\n",
    "    | [] -> acc\n",
    "    | x::list' -> f x (fold_right f list' acc) ;;\n",
    "    \n",
    "fold_right(fun x acc->2*x+acc)[1;2;3] 0;;"
   ]
  },
  {
   "cell_type": "markdown",
   "id": "273003aa",
   "metadata": {},
   "source": [
    "**Binary tree**"
   ]
  },
  {
   "cell_type": "code",
   "execution_count": 13,
   "id": "5176f601",
   "metadata": {},
   "outputs": [
    {
     "data": {
      "text/plain": [
       "type 'a tree = Empty | Node of 'a * 'a tree * 'a tree\n"
      ]
     },
     "execution_count": 13,
     "metadata": {},
     "output_type": "execute_result"
    }
   ],
   "source": [
    "type 'a tree = \n",
    "    | Empty\n",
    "    | Node of 'a * 'a tree * 'a tree ;;"
   ]
  },
  {
   "cell_type": "code",
   "execution_count": 14,
   "id": "1a3191c7",
   "metadata": {},
   "outputs": [
    {
     "data": {
      "text/plain": [
       "val t : int tree = Node (10, Node (3, Empty, Empty), Node (5, Empty, Empty))\n"
      ]
     },
     "execution_count": 14,
     "metadata": {},
     "output_type": "execute_result"
    }
   ],
   "source": [
    "let t = Node(10, Node(3, Empty, Empty), Node(5, Empty, Empty)) ;;"
   ]
  },
  {
   "cell_type": "code",
   "execution_count": 15,
   "id": "c9631c6b",
   "metadata": {},
   "outputs": [
    {
     "data": {
      "text/plain": [
       "val t2 : int tree =\n",
       "  Node (20, Node (2, Node (54, Empty, Empty), Empty),\n",
       "   Node (13, Empty, Node (8, Empty, Empty)))\n"
      ]
     },
     "execution_count": 15,
     "metadata": {},
     "output_type": "execute_result"
    }
   ],
   "source": [
    "let t2 = Node(20, Node(2, Node(54, Empty, Empty), Empty), Node(13, Empty, Node(8, Empty, Empty))) ;; "
   ]
  },
  {
   "cell_type": "markdown",
   "id": "192ac7f9",
   "metadata": {},
   "source": [
    "**Sum of all nodes**"
   ]
  },
  {
   "cell_type": "code",
   "execution_count": 16,
   "id": "9c4492a5",
   "metadata": {},
   "outputs": [
    {
     "data": {
      "text/plain": [
       "val sum_nodes : int tree -> int = <fun>\n"
      ]
     },
     "execution_count": 16,
     "metadata": {},
     "output_type": "execute_result"
    },
    {
     "data": {
      "text/plain": [
       "- : int = 18\n"
      ]
     },
     "execution_count": 16,
     "metadata": {},
     "output_type": "execute_result"
    },
    {
     "data": {
      "text/plain": [
       "- : int = 97\n"
      ]
     },
     "execution_count": 16,
     "metadata": {},
     "output_type": "execute_result"
    }
   ],
   "source": [
    "let rec sum_nodes t =\n",
    "    match t with\n",
    "    | Empty -> 0\n",
    "    | Node (v, left, right) -> v + sum_nodes left + sum_nodes right ;;   \n",
    "\n",
    "sum_nodes t ;;\n",
    "sum_nodes t2 ;;"
   ]
  },
  {
   "cell_type": "markdown",
   "id": "a3049a7f",
   "metadata": {},
   "source": [
    "**Sum odd nodes**"
   ]
  },
  {
   "cell_type": "code",
   "execution_count": 17,
   "id": "14265c3e",
   "metadata": {},
   "outputs": [
    {
     "data": {
      "text/plain": [
       "val sum_odd : int tree -> int = <fun>\n"
      ]
     },
     "execution_count": 17,
     "metadata": {},
     "output_type": "execute_result"
    },
    {
     "data": {
      "text/plain": [
       "- : int = 8\n"
      ]
     },
     "execution_count": 17,
     "metadata": {},
     "output_type": "execute_result"
    },
    {
     "data": {
      "text/plain": [
       "- : int = 13\n"
      ]
     },
     "execution_count": 17,
     "metadata": {},
     "output_type": "execute_result"
    }
   ],
   "source": [
    "let rec sum_odd t = \n",
    "    match t with\n",
    "    | Empty -> 0\n",
    "    | Node(v, left, right) -> if (v mod 2 = 1) then v else sum_odd left + sum_odd right;;\n",
    "                                \n",
    "sum_odd t ;;\n",
    "sum_odd t2 ;;"
   ]
  },
  {
   "cell_type": "markdown",
   "id": "943ab4e6",
   "metadata": {},
   "source": [
    "**Counting nodes**"
   ]
  },
  {
   "cell_type": "code",
   "execution_count": 18,
   "id": "b1807524",
   "metadata": {},
   "outputs": [
    {
     "data": {
      "text/plain": [
       "val count_nodes : 'a tree -> int = <fun>\n"
      ]
     },
     "execution_count": 18,
     "metadata": {},
     "output_type": "execute_result"
    },
    {
     "data": {
      "text/plain": [
       "- : int = 5\n"
      ]
     },
     "execution_count": 18,
     "metadata": {},
     "output_type": "execute_result"
    }
   ],
   "source": [
    "let rec count_nodes t = \n",
    "    match t with \n",
    "    | Empty -> 0\n",
    "    | Node(v, left ,right) -> 1 + count_nodes left + count_nodes right ;;\n",
    "    \n",
    "count_nodes t2 ;;"
   ]
  },
  {
   "cell_type": "markdown",
   "id": "80a85fbe",
   "metadata": {},
   "source": [
    "**Max**"
   ]
  },
  {
   "cell_type": "code",
   "execution_count": 19,
   "id": "a00c5fed",
   "metadata": {},
   "outputs": [
    {
     "data": {
      "text/plain": [
       "val max_tree : 'a tree -> 'a option = <fun>\n"
      ]
     },
     "execution_count": 19,
     "metadata": {},
     "output_type": "execute_result"
    },
    {
     "data": {
      "text/plain": [
       "- : int option = Some 54\n"
      ]
     },
     "execution_count": 19,
     "metadata": {},
     "output_type": "execute_result"
    }
   ],
   "source": [
    "let rec max_tree t = \n",
    "    match t with \n",
    "    | Empty -> None\n",
    "    | Node(v, left, right) -> let max x y = \n",
    "                              match (x, y) with \n",
    "                              | None, None -> None\n",
    "                              | Some a, None -> Some a\n",
    "                              | None, Some b -> Some b\n",
    "                              | Some a, Some b -> Some (if (a < b) then b else a)\n",
    "    in max (Some v) (max (max_tree left) (max_tree right)) ;;\n",
    "                            \n",
    "max_tree t2 ;;"
   ]
  },
  {
   "cell_type": "markdown",
   "id": "ec78dc47",
   "metadata": {},
   "source": [
    "**Height**"
   ]
  },
  {
   "cell_type": "code",
   "execution_count": 20,
   "id": "3451858d",
   "metadata": {},
   "outputs": [
    {
     "data": {
      "text/plain": [
       "val height : 'a tree -> int = <fun>\n"
      ]
     },
     "execution_count": 20,
     "metadata": {},
     "output_type": "execute_result"
    },
    {
     "data": {
      "text/plain": [
       "val t3 : int tree =\n",
       "  Node (60, Node (42, Node (30, Empty, Empty), Node (50, Empty, Empty)),\n",
       "   Node (77, Node (61, Empty, Empty), Node (80, Empty, Empty)))\n"
      ]
     },
     "execution_count": 20,
     "metadata": {},
     "output_type": "execute_result"
    },
    {
     "data": {
      "text/plain": [
       "- : int = 2\n"
      ]
     },
     "execution_count": 20,
     "metadata": {},
     "output_type": "execute_result"
    },
    {
     "data": {
      "text/plain": [
       "- : int = 2\n"
      ]
     },
     "execution_count": 20,
     "metadata": {},
     "output_type": "execute_result"
    }
   ],
   "source": [
    "let rec height t = \n",
    "    match t with \n",
    "    | Empty -> -1\n",
    "    | Node(v, left, right) -> let max x y = if (x < y) then y else x in 1 + max (height left) (height right) ;;\n",
    "    \n",
    "let t3 = Node(60, Node(42, Node(30, Empty, Empty), Node(50, Empty, Empty)), Node(77, Node(61, Empty,Empty), Node(80, Empty, Empty)));;\n",
    "height t2 ;;\n",
    "height t3 "
   ]
  },
  {
   "cell_type": "markdown",
   "id": "6e70145b",
   "metadata": {},
   "source": [
    "**Balanced tree** - A tree is balanced when the difference between the left subtree and the right one is at most 1"
   ]
  },
  {
   "cell_type": "code",
   "execution_count": 21,
   "id": "9f70a134",
   "metadata": {},
   "outputs": [
    {
     "data": {
      "text/plain": [
       "val balanced_tree : 'a tree -> bool = <fun>\n"
      ]
     },
     "execution_count": 21,
     "metadata": {},
     "output_type": "execute_result"
    },
    {
     "data": {
      "text/plain": [
       "- : bool = true\n"
      ]
     },
     "execution_count": 21,
     "metadata": {},
     "output_type": "execute_result"
    },
    {
     "data": {
      "text/plain": [
       "val t4 : int tree = Node (5, Node (3, Node (1, Empty, Empty), Empty), Empty)\n"
      ]
     },
     "execution_count": 21,
     "metadata": {},
     "output_type": "execute_result"
    },
    {
     "data": {
      "text/plain": [
       "- : bool = false\n"
      ]
     },
     "execution_count": 21,
     "metadata": {},
     "output_type": "execute_result"
    }
   ],
   "source": [
    "let rec balanced_tree t = \n",
    "    match t with \n",
    "    | Empty -> true\n",
    "    | Node(v, left, right) -> let h_left = height left in \n",
    "                              let r_height = height right in\n",
    "                              let diff = abs(h_left - r_height) in\n",
    "                              balanced_tree left && balanced_tree right && 1 >= diff ;;\n",
    "\n",
    "(* Not the best implementation though*)\n",
    "balanced_tree t3 ;;\n",
    "let t4 = Node(5, Node(3, Node(1, Empty, Empty), Empty), Empty) ;;\n",
    "balanced_tree t4\n"
   ]
  },
  {
   "cell_type": "markdown",
   "id": "247bd7c9",
   "metadata": {},
   "source": [
    "**Tree to list**"
   ]
  },
  {
   "cell_type": "code",
   "execution_count": 22,
   "id": "82d91431",
   "metadata": {},
   "outputs": [
    {
     "data": {
      "text/plain": [
       "val tree_list : 'a tree -> 'a list = <fun>\n"
      ]
     },
     "execution_count": 22,
     "metadata": {},
     "output_type": "execute_result"
    },
    {
     "data": {
      "text/plain": [
       "- : int list = [20; 2; 54; 13; 8]\n"
      ]
     },
     "execution_count": 22,
     "metadata": {},
     "output_type": "execute_result"
    }
   ],
   "source": [
    "let rec tree_list t = \n",
    "    match t with\n",
    "    | Empty -> []\n",
    "    | Node(v, left, right) -> v::[] @ tree_list left @ tree_list right ;;\n",
    "    \n",
    "tree_list t2 ;;"
   ]
  },
  {
   "cell_type": "code",
   "execution_count": 29,
   "id": "a8301f16",
   "metadata": {},
   "outputs": [
    {
     "data": {
      "text/plain": [
       "val swap_tree : 'a tree -> 'a tree = <fun>\n"
      ]
     },
     "execution_count": 29,
     "metadata": {},
     "output_type": "execute_result"
    },
    {
     "data": {
      "text/plain": [
       "- : int tree =\n",
       "Node (60, Node (77, Node (80, Empty, Empty), Node (61, Empty, Empty)),\n",
       " Node (42, Node (50, Empty, Empty), Node (30, Empty, Empty)))\n"
      ]
     },
     "execution_count": 29,
     "metadata": {},
     "output_type": "execute_result"
    }
   ],
   "source": [
    "let rec swap_tree t = \n",
    "    match t with\n",
    "    | Empty -> Empty\n",
    "    | Node(v, left, right) -> Node(v, swap_tree right, swap_tree left) ;;\n",
    "\n",
    "                              \n",
    "swap_tree t3 ;;"
   ]
  }
 ],
 "metadata": {
  "kernelspec": {
   "display_name": "OCaml default",
   "language": "OCaml",
   "name": "ocaml-jupyter"
  },
  "language_info": {
   "codemirror_mode": "text/x-ocaml",
   "file_extension": ".ml",
   "mimetype": "text/x-ocaml",
   "name": "OCaml",
   "nbconverter_exporter": null,
   "pygments_lexer": "OCaml",
   "version": "4.08.1"
  }
 },
 "nbformat": 4,
 "nbformat_minor": 5
}
