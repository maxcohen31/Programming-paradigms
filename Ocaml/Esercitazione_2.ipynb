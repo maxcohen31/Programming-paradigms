{
 "cells": [
  {
   "cell_type": "markdown",
   "id": "f8471532",
   "metadata": {},
   "source": [
    "### Esercitazione 6/11/2024"
   ]
  },
  {
   "cell_type": "code",
   "execution_count": 3,
   "id": "e69838f4",
   "metadata": {},
   "outputs": [
    {
     "data": {
      "text/plain": [
       "type poitn_2d_3d = P2dim of float * float | P3dim of float * float * float\n"
      ]
     },
     "execution_count": 3,
     "metadata": {},
     "output_type": "execute_result"
    },
    {
     "data": {
      "text/plain": [
       "type 'a box = Empty | Full of 'a\n"
      ]
     },
     "execution_count": 3,
     "metadata": {},
     "output_type": "execute_result"
    },
    {
     "data": {
      "text/plain": [
       "type 'a colored_tree =\n",
       "    Black of 'a\n",
       "  | Red of 'a * 'a colored_tree * 'a colored_tree\n",
       "  | Blue of 'a * 'a colored_tree * 'a colored_tree\n"
      ]
     },
     "execution_count": 3,
     "metadata": {},
     "output_type": "execute_result"
    }
   ],
   "source": [
    "type poitn_2d_3d =\n",
    "    | P2dim of float*float\n",
    "    | P3dim of float*float*float ;;\n",
    "    \n",
    "type 'a box =\n",
    "    | Empty\n",
    "    | Full of 'a\n",
    "    \n",
    "\n",
    "type 'a colored_tree = \n",
    "    | Black of 'a\n",
    "    | Red of 'a*('a colored_tree)*('a colored_tree) \n",
    "    | Blue of 'a*('a colored_tree)*('a colored_tree) ;;\n",
    "    \n"
   ]
  },
  {
   "cell_type": "code",
   "execution_count": 4,
   "id": "7bd314c3",
   "metadata": {},
   "outputs": [
    {
     "data": {
      "text/plain": [
       "- : int option list = [Some 10; None]\n"
      ]
     },
     "execution_count": 4,
     "metadata": {},
     "output_type": "execute_result"
    },
    {
     "data": {
      "text/plain": [
       "- : int box list = [Full 10; Empty]\n"
      ]
     },
     "execution_count": 4,
     "metadata": {},
     "output_type": "execute_result"
    },
    {
     "data": {
      "text/plain": [
       "val f : int colored_tree -> int = <fun>\n"
      ]
     },
     "execution_count": 4,
     "metadata": {},
     "output_type": "execute_result"
    },
    {
     "data": {
      "text/plain": [
       "val g : poitn_2d_3d -> poitn_2d_3d -> poitn_2d_3d option = <fun>\n"
      ]
     },
     "execution_count": 4,
     "metadata": {},
     "output_type": "execute_result"
    }
   ],
   "source": [
    "(* Assumendo le definizioni sopra riportate, determinare il tipo delle seguenti espressioni *)\n",
    "\n",
    "(Some 10)::(None)::[] ;; (* int option list *)\n",
    "(Full 10)::(Empty)::[] ;; (* int box list *)\n",
    "\n",
    "\n",
    "let rec f ct = match ct with\n",
    "    | Black n -> 0\n",
    "    | Red (n, ct1, ct2) -> n + (f ct1) + (f ct2)    \n",
    "    | Blue (n, ct1, ct2) -> (f ct1) + (f ct2) ;; (* fun : colored_tree -> int*)\n",
    "    \n",
    "let g p1 p2 = match p1, p2 with\n",
    "    | P2dim (x1, y1), P2dim (x2, y2) -> Some (P2dim ((x1 +. x2)/.2., (y2 +. y2)/.2.))\n",
    "    | P3dim (x1, y1, z1), P3dim (x2, y2, z2) -> Some (P3dim ((x1 +. x2)/.2., (y2 +. y2)/.2., (z1 +. z2)/.2.))\n",
    "    | _,_ -> None ;; \n",
    "    \n",
    "(* function: point2d_3d -> point2d_3d -> option*)"
   ]
  },
  {
   "cell_type": "markdown",
   "id": "63227077",
   "metadata": {},
   "source": [
    "#### Cosa calcolano le funzioni f e g riportate sopra?\n",
    "\n",
    "f calcola la somma dei nodi se Rossi;\n",
    "g calcola il punto medio a seconda del tipo dei punti passati."
   ]
  },
  {
   "cell_type": "markdown",
   "id": "c9f97b81",
   "metadata": {},
   "source": [
    "#### Esercizio \n",
    "Considerando il tipo ’a colored_tree che rappresenta alberi con nodi colorati definito\n",
    "nell’esercizio 1, scrivere una funzione raccogli che, dato un albero di questo tipo, restituisce una tripla di\n",
    "liste (l1,l2,l3) di tipo ’a list * ’a list * ’a list dove l1 contiene tutti i valori contenuti nei nodi\n",
    "Black, l2 tutti i valori nei nodi Red ed l3 tutti i valori nei nodi Blue. Ad esempio, dato il seguente albero:\n",
    "\n",
    "\n",
    "let tree = Red (\"a\",\n",
    "Blue (\"b\",\n",
    "Black \"c\",\n",
    "Red ( \"d\", Black \"e\", Black \"f\")),\n",
    "Red ( \"g\",\n",
    "Blue ( \"h\", Black \"i\", Black \"j\"),\n",
    "Black \"k\")) ;;\n",
    "\n",
    "\n",
    "l’applicazione raccogli tree deve dare come risultato:\n",
    "([\"c\"; \"e\"; \"f\"; \"i\"; \"j\"; \"k\"], [\"a\"; \"d\"; \"g\"], [\"b\"; \"h\"])\n",
    "L’ordine degli elementi nelle liste può essere diverso rispetto a questo esempio."
   ]
  },
  {
   "cell_type": "code",
   "execution_count": 5,
   "id": "8243b1da",
   "metadata": {},
   "outputs": [
    {
     "data": {
      "text/plain": [
       "val raccogli : 'a colored_tree -> 'a list * 'a list * 'a list = <fun>\n"
      ]
     },
     "execution_count": 5,
     "metadata": {},
     "output_type": "execute_result"
    },
    {
     "data": {
      "text/plain": [
       "val tree : string colored_tree =\n",
       "  Red (\"a\", Blue (\"b\", Black \"c\", Red (\"d\", Black \"e\", Black \"f\")),\n",
       "   Red (\"g\", Blue (\"h\", Black \"i\", Black \"j\"), Black \"k\"))\n"
      ]
     },
     "execution_count": 5,
     "metadata": {},
     "output_type": "execute_result"
    },
    {
     "data": {
      "text/plain": [
       "- : string list * string list * string list =\n",
       "([\"c\"; \"e\"; \"f\"; \"i\"; \"j\"; \"k\"], [\"a\"; \"d\"; \"g\"], [\"b\"; \"h\"])\n"
      ]
     },
     "execution_count": 5,
     "metadata": {},
     "output_type": "execute_result"
    }
   ],
   "source": [
    "let rec raccogli tree = \n",
    "    match tree with \n",
    "    | Black n -> ([n], [], []) \n",
    "    | Red (n, sx, dx) -> let (l1, l2, l3) = raccogli sx in \n",
    "                         let (l1', l2', l3') = raccogli dx in\n",
    "                         (l1@l1', n::l2@l2', l3@l3')\n",
    "    | Blue (n, sx, dx) -> let (l1, l2, l3) = raccogli sx in \n",
    "                          let (l1', l2', l3') = raccogli dx in\n",
    "                          (l1@l1', l2@l2', n::l3@l3') ;;\n",
    "    \n",
    "let tree = Red (\"a\", Blue (\"b\", Black \"c\", Red ( \"d\", Black \"e\", Black \"f\")), Red ( \"g\", Blue ( \"h\", Black \"i\", Black \"j\"), Black \"k\")) ;;\n",
    "raccogli tree"
   ]
  },
  {
   "cell_type": "markdown",
   "id": "1dede764",
   "metadata": {},
   "source": [
    "#### Esercizio"
   ]
  },
  {
   "cell_type": "code",
   "execution_count": 6,
   "id": "c369d61b",
   "metadata": {},
   "outputs": [
    {
     "data": {
      "text/plain": [
       "type btree = Void | Node of int * btree * btree\n"
      ]
     },
     "execution_count": 6,
     "metadata": {},
     "output_type": "execute_result"
    }
   ],
   "source": [
    "type btree =\n",
    "| Void\n",
    "| Node of int * btree * btree"
   ]
  },
  {
   "cell_type": "markdown",
   "id": "07cf8b99",
   "metadata": {},
   "source": [
    "si definisca, usando i costrutti di programmazione funzionale di OCaml, una funzione flat con tipo\n",
    "flat : btree -> int list list\n",
    "tale che flat bt restituisca una lista contenente le liste di valori presenti ad ogni livello di profondità\n",
    "dell’albero.\n",
    "Ad esempio dato il seguente albero binario (a destra in una rappresentazione visuale):\n",
    "\n",
    "\n",
    "let bt =\n",
    "Node (3,\n",
    "Node (5,\n",
    "Node(1,Void,Void),\n",
    "Void\n",
    "),\n",
    "Node (-4,\n",
    "Node(6,Void,Void),\n",
    "Node(8,Void,Void)\n",
    ")\n",
    ")\n",
    "\n",
    "\n",
    "abbiamo che flat bt restituisce [[3],[5,-4],[1,6,8]]."
   ]
  },
  {
   "cell_type": "code",
   "execution_count": 36,
   "id": "844f93ef",
   "metadata": {},
   "outputs": [
    {
     "data": {
      "text/plain": [
       "val flat : btree -> int list = <fun>\n"
      ]
     },
     "execution_count": 36,
     "metadata": {},
     "output_type": "execute_result"
    },
    {
     "data": {
      "text/plain": [
       "val bt : btree =\n",
       "  Node (3, Node (5, Node (1, Void, Void), Void),\n",
       "   Node (-4, Node (6, Void, Void), Node (8, Void, Void)))\n"
      ]
     },
     "execution_count": 36,
     "metadata": {},
     "output_type": "execute_result"
    },
    {
     "data": {
      "text/plain": [
       "- : int list = [1; 5; 3; 6; -4; 8]\n"
      ]
     },
     "execution_count": 36,
     "metadata": {},
     "output_type": "execute_result"
    }
   ],
   "source": [
    "(* flatta un binary tree... Ops*)\n",
    "let flat bt =\n",
    "  let rec helper bt acc = \n",
    "    match bt with \n",
    "    | Void -> acc\n",
    "    | Node(data, sx, dx) -> helper sx (data :: helper dx acc)\n",
    "  in\n",
    "  helper bt [] ;;\n",
    "        \n",
    "let bt = Node (3, Node (5, Node(1,Void,Void), Void ), Node (-4, Node(6,Void,Void), Node(8,Void,Void) ) ) ;;\n",
    "flat bt"
   ]
  },
  {
   "cell_type": "code",
   "execution_count": 43,
   "id": "e850b6f9",
   "metadata": {},
   "outputs": [
    {
     "data": {
      "text/plain": [
       "val flat : btree -> int list list = <fun>\n"
      ]
     },
     "execution_count": 43,
     "metadata": {},
     "output_type": "execute_result"
    },
    {
     "data": {
      "text/plain": [
       "val bt : btree =\n",
       "  Node (3, Node (5, Node (1, Void, Void), Void),\n",
       "   Node (-4, Node (6, Void, Void), Node (8, Void, Void)))\n"
      ]
     },
     "execution_count": 43,
     "metadata": {},
     "output_type": "execute_result"
    },
    {
     "data": {
      "text/plain": [
       "- : int list list = [[3]; [5; -4]; [1; 6; 8]]\n"
      ]
     },
     "execution_count": 43,
     "metadata": {},
     "output_type": "execute_result"
    }
   ],
   "source": [
    "(* Invece vogliamo i valori dei nodi ad ogni livello. Soluzione proposta dal Prof. Milazzo *) \n",
    "\n",
    "let rec flat bt =\n",
    "    let rec merge lis1 lis2 =\n",
    "        match (lis1, lis2) with\n",
    "            | ([], _) -> lis2\n",
    "            | (_, []) -> lis1\n",
    "            | (x::lis1', y::lis2') -> (x @ y) :: (merge lis1' lis2')  \n",
    "    in\n",
    "    match bt with\n",
    "        | Void -> [] \n",
    "        | Node (n, bt1, bt2) -> \n",
    "            let lis1 = flat bt1 in\n",
    "            let lis2 = flat bt2 in\n",
    "            [[n]] @ (merge lis1 lis2)\n",
    "\n",
    "let bt = Node (3, Node (5, Node(1,Void,Void), Void ), Node (-4, Node(6,Void,Void), Node(8,Void,Void) ) ) ;;\n",
    "flat bt "
   ]
  },
  {
   "cell_type": "code",
   "execution_count": null,
   "id": "af1785fd",
   "metadata": {},
   "outputs": [],
   "source": []
  }
 ],
 "metadata": {
  "kernelspec": {
   "display_name": "OCaml default",
   "language": "OCaml",
   "name": "ocaml-jupyter"
  },
  "language_info": {
   "codemirror_mode": "text/x-ocaml",
   "file_extension": ".ml",
   "mimetype": "text/x-ocaml",
   "name": "OCaml",
   "nbconverter_exporter": null,
   "pygments_lexer": "OCaml",
   "version": "4.08.1"
  }
 },
 "nbformat": 4,
 "nbformat_minor": 5
}
