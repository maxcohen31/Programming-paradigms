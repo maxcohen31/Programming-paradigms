{
 "cells": [
  {
   "cell_type": "markdown",
   "id": "ed382970",
   "metadata": {},
   "source": [
    "## Esercizi OCaml\n",
    "### Esercizi in OCaml presi da vari esami del corso Paradigmi di programmazione dell'Università di Pisa."
   ]
  },
  {
   "cell_type": "markdown",
   "id": "5fc5448a",
   "metadata": {},
   "source": [
    "**Esercizio 1**\n",
    "\n",
    "Si consideri il seguente tipo di dato che descrive alberi n-ari con nodi associati a valori interi, dove la\n",
    "ntree list si assume essere non vuota:\n",
    "\n",
    "\n",
    "type ntree = Node of int * ntree list\n",
    "| Leaf of int;;\n",
    "\n",
    "\n",
    "Definire, usando i costrutti di programmazione funzionale in OCaml, una funzione compact con tipo\n",
    "compact : ntree -> ntree\n",
    "tale che compact t restituisca un albero t’ ottenuto sostituendo ogni nodo Node (n,[Leaf n1;...;Leaf nk])\n",
    "(ossia che non ha figli di tipo Node) contenuto in t, con un nodo Node (n,[Leaf (n1+...+nk)]). \n",
    "\n",
    "Esempi:\n",
    "\n",
    "\n",
    "compact (Node(10,[Leaf 2; Leaf 3; Leaf 4])) =\n",
    "Node (10,[Leaf 9])\n",
    "\n",
    "\n",
    "compact (Node(10,[Leaf 2; Node (3, [Leaf 5; Leaf 3]); Leaf 4])) =\n",
    "Node (10,[Leaf 2; Node (3, [Leaf 8]); Leaf 4])\n",
    "\n",
    "\n",
    "compact (Node(10,[])) =\n",
    "Node (10,[Leaf 0])"
   ]
  },
  {
   "cell_type": "code",
   "execution_count": 1,
   "id": "23b12da5",
   "metadata": {},
   "outputs": [
    {
     "data": {
      "text/plain": [
       "type ntree = Leaf of int | Node of int * ntree list\n"
      ]
     },
     "execution_count": 1,
     "metadata": {},
     "output_type": "execute_result"
    }
   ],
   "source": [
    "type ntree = \n",
    "    | Leaf of int\n",
    "    | Node of int * ntree list ;;"
   ]
  },
  {
   "cell_type": "code",
   "execution_count": 2,
   "id": "5d6183f3",
   "metadata": {},
   "outputs": [
    {
     "data": {
      "text/plain": [
       "val compact : ntree -> ntree = <fun>\n"
      ]
     },
     "execution_count": 2,
     "metadata": {},
     "output_type": "execute_result"
    },
    {
     "data": {
      "text/plain": [
       "- : ntree = Node (10, [Leaf 9])\n"
      ]
     },
     "execution_count": 2,
     "metadata": {},
     "output_type": "execute_result"
    },
    {
     "data": {
      "text/plain": [
       "- : ntree = Node (10, [Leaf 2; Node (3, [Leaf 8]); Leaf 4])\n"
      ]
     },
     "execution_count": 2,
     "metadata": {},
     "output_type": "execute_result"
    },
    {
     "data": {
      "text/plain": [
       "- : ntree = Node (10, [Leaf 0])\n"
      ]
     },
     "execution_count": 2,
     "metadata": {},
     "output_type": "execute_result"
    }
   ],
   "source": [
    "let rec compact nt =\n",
    "  match nt with\n",
    "  | Leaf v -> Leaf v (* caso base *)\n",
    "  | Node (v, children) -> \n",
    "      if children = [] then Node (v, [Leaf 0]) (* lista vuota *)\n",
    "      else \n",
    "        let is_leaf = function Leaf _ -> true | _ -> false in (* se Leaf true, false altrimenti *)\n",
    "        if List.for_all is_leaf children then (* controlla che nella lista ci siano solo tipi Leaf *)\n",
    "              let sum = List.fold_left (fun acc child -> \n",
    "                      match child with\n",
    "                      | Leaf l -> acc + l\n",
    "                      | _ -> acc) 0 children\n",
    "          in Node (v, [Leaf sum])\n",
    "        else\n",
    "          Node (v, List.map compact children) ;;\n",
    "          \n",
    "compact (Node(10,[Leaf 2; Leaf 3; Leaf 4]));;\n",
    "\n",
    "compact (Node(10,[Leaf 2; Node (3, [Leaf 5; Leaf 3]); Leaf 4])) ;;\n",
    "\n",
    "compact (Node(10,[])) "
   ]
  },
  {
   "cell_type": "markdown",
   "id": "91ce4500",
   "metadata": {},
   "source": [
    "#### Esercizio 2\n",
    "Assumendo il seguente tipo di dato che descrive alberi binari di interi:\n",
    "\n",
    "\n",
    "type btree =\n",
    "| Void\n",
    "| Node of int * btree * btree\n",
    "\n",
    "\n",
    "si definisca, usando i costrutti di programmazione funzionale di OCaml, una funzione count con tipo\n",
    "count : btree -> (int -> bool) -> int\n",
    "tale che (count bt p) restituisca il numero dei nodi in bt i cui figli soddisfano il predicato p. Ad esempio,\n",
    "dato il seguente predicato:\n",
    "\n",
    "\n",
    "let positivo x =\n",
    "match x with\n",
    "| Void -> false\n",
    "| Node (i,_,_) -> i>0\n",
    "\n",
    "\n",
    "e dato il seguente albero binario:\n",
    "let bt =\n",
    "Node (3,\n",
    "Node (5,Void,Void),\n",
    "Node (-4,\n",
    "Node(6,Void,Void),\n",
    "Node(8,Void,Void)\n",
    ")\n",
    ")\n",
    "\n",
    "\n",
    "abbiamo che count bt positivo = 1 in quanto solo il nodo contenente -4 ha entrambi i figli che soddisfano\n",
    "il predicato."
   ]
  },
  {
   "cell_type": "code",
   "execution_count": 3,
   "id": "76daf4fb",
   "metadata": {},
   "outputs": [
    {
     "data": {
      "text/plain": [
       "type btree = Void | Node of int * btree * btree\n"
      ]
     },
     "execution_count": 3,
     "metadata": {},
     "output_type": "execute_result"
    }
   ],
   "source": [
    "type btree = \n",
    "    | Void\n",
    "    | Node of int * btree * btree ;;"
   ]
  },
  {
   "cell_type": "code",
   "execution_count": 4,
   "id": "37f9f53a",
   "metadata": {},
   "outputs": [
    {
     "data": {
      "text/plain": [
       "val positivo : btree -> bool = <fun>\n"
      ]
     },
     "execution_count": 4,
     "metadata": {},
     "output_type": "execute_result"
    }
   ],
   "source": [
    "let positivo x = \n",
    "    match x with\n",
    "    | Void -> false\n",
    "    | Node (i, _, _) -> i > 0 ;;"
   ]
  },
  {
   "cell_type": "code",
   "execution_count": 5,
   "id": "de3b37d3",
   "metadata": {},
   "outputs": [
    {
     "data": {
      "text/plain": [
       "val count_pos : btree -> int -> (btree -> bool) -> int = <fun>\n"
      ]
     },
     "execution_count": 5,
     "metadata": {},
     "output_type": "execute_result"
    },
    {
     "data": {
      "text/plain": [
       "val count : btree -> (btree -> bool) -> int = <fun>\n"
      ]
     },
     "execution_count": 5,
     "metadata": {},
     "output_type": "execute_result"
    },
    {
     "data": {
      "text/plain": [
       "val bt : btree =\n",
       "  Node (3, Node (5, Void, Void),\n",
       "   Node (-4, Node (6, Void, Void), Node (8, Void, Void)))\n"
      ]
     },
     "execution_count": 5,
     "metadata": {},
     "output_type": "execute_result"
    },
    {
     "data": {
      "text/plain": [
       "- : int = 1\n"
      ]
     },
     "execution_count": 5,
     "metadata": {},
     "output_type": "execute_result"
    }
   ],
   "source": [
    "let rec count_pos node acc p =\n",
    "        match node with\n",
    "        | Void -> acc\n",
    "        | Node(v, left, right) -> let c = if (p left && p right) then acc+1 else acc \n",
    "                                                                 in let left_acc = count_pos left c p\n",
    "                                                                 in count_pos right left_acc p ;;\n",
    "\n",
    "let rec count bt p = \n",
    "    count_pos bt 0 p ;;\n",
    "    \n",
    "let bt = Node (3, Node (5,Void,Void), Node (-4, Node(6,Void,Void), Node(8,Void,Void))) ;;\n",
    "\n",
    "count bt positivo ;;"
   ]
  },
  {
   "cell_type": "markdown",
   "id": "41550e6a",
   "metadata": {},
   "source": [
    "#### Esercizio 3\n",
    "\n",
    "Senza utilizzare esplicitamente la ricorsione, ma utilizzando funzioni higher-order su liste (dal modulo List),\n",
    "si definisca in OCaml una funzione split con tipo\n",
    "\n",
    "\n",
    "split: ‘a list -> (‘a -> bool) -> (‘a list * ‘a list)\n",
    "\n",
    "\n",
    "in modo che split lis p restituisca una copia (lis1,lis2) tale che la lista lis1 contenga tutti e soli gli\n",
    "elementi di lis che soddisfano il predicato p e la lista lis2 contenga tutti e soli gli elementi di lis che non\n",
    "soddisfano il predicato p. \n",
    "\n",
    "La soluzione dovrebbe fare in modo che la lista lis venga scandita una sola volta."
   ]
  },
  {
   "cell_type": "code",
   "execution_count": 6,
   "id": "08fde9e1",
   "metadata": {},
   "outputs": [
    {
     "data": {
      "text/plain": [
       "val split : 'a list -> ('a -> bool) -> 'a list * 'a list = <fun>\n"
      ]
     },
     "execution_count": 6,
     "metadata": {},
     "output_type": "execute_result"
    },
    {
     "data": {
      "text/plain": [
       "val l : int list = [1; -2; -3; 4; 5; 6]\n"
      ]
     },
     "execution_count": 6,
     "metadata": {},
     "output_type": "execute_result"
    },
    {
     "data": {
      "text/plain": [
       "- : int list * int list = ([1; 4; 5; 6], [-2; -3])\n"
      ]
     },
     "execution_count": 6,
     "metadata": {},
     "output_type": "execute_result"
    }
   ],
   "source": [
    "let split lis p = \n",
    "    (* la funzione aggiunge un elemento a lis1 se il predicato è soddisfatto e a lis2 altrimenti *)\n",
    "    List.fold_right (fun x (lis1, lis2) -> if (p x) then (x::lis1, lis2) else (lis1, x::lis2)) lis ([], []) ;;\n",
    "    \n",
    "    \n",
    "let l = [1;-2;-3;4;5;6] ;;\n",
    "split l (function p -> p > 0) ;;\n",
    "        \n"
   ]
  },
  {
   "cell_type": "markdown",
   "id": "728d1152",
   "metadata": {},
   "source": [
    "#### Esercizio 4\n",
    "\n",
    "Definire, usando i costrutti di programmazione funzionale in OCaml, una funzione g con tipo\n",
    "g : int list -> int * int\n",
    "che, data una lista non vuota di interi, restituisce la coppia formata dal massimo elemento della lista e\n",
    "dal numero di volte che esso occorre nella lista stessa. \n",
    "\n",
    "Ad esempio: g [1;-4;5;-1;5;-6;5] = (5,3).\n",
    "\n",
    "\n",
    "L’applicazione di g alla lista vuota causa invece un’eccezione."
   ]
  },
  {
   "cell_type": "code",
   "execution_count": 7,
   "id": "ef4e8559",
   "metadata": {},
   "outputs": [
    {
     "data": {
      "text/plain": [
       "val max_element : 'a list -> 'a = <fun>\n"
      ]
     },
     "execution_count": 7,
     "metadata": {},
     "output_type": "execute_result"
    },
    {
     "data": {
      "text/plain": [
       "val count_elements : 'a list -> 'a -> int = <fun>\n"
      ]
     },
     "execution_count": 7,
     "metadata": {},
     "output_type": "execute_result"
    },
    {
     "data": {
      "text/plain": [
       "val g : 'a list -> 'a * int = <fun>\n"
      ]
     },
     "execution_count": 7,
     "metadata": {},
     "output_type": "execute_result"
    },
    {
     "data": {
      "text/plain": [
       "val l : int list = [1; -4; 5; -1; 5; -6; 5]\n"
      ]
     },
     "execution_count": 7,
     "metadata": {},
     "output_type": "execute_result"
    },
    {
     "data": {
      "text/plain": [
       "- : int * int = (5, 3)\n"
      ]
     },
     "execution_count": 7,
     "metadata": {},
     "output_type": "execute_result"
    }
   ],
   "source": [
    "let rec max_element lis = \n",
    "    match lis with\n",
    "    | [] -> failwith \"Empty list\"\n",
    "    | [x] -> x\n",
    "    | x::y::lis' -> let max = max_element (y::lis') in if (max < x) then x else max ;;\n",
    "    \n",
    "let rec count_elements lis elem = \n",
    "    match lis with\n",
    "    | [] -> 0\n",
    "    | x::lis' -> if (x = elem) then (count_elements lis' x + 1) else count_elements lis' elem;;\n",
    "    \n",
    "let g list =\n",
    "    match list with\n",
    "    | [] -> failwith \"Empty list\"\n",
    "    | list' -> let max = max_element list' in (max, count_elements list' max) ;;\n",
    "    \n",
    "let l = [1;-4;5;-1;5;-6;5] ;;\n",
    "\n",
    "g l;;"
   ]
  },
  {
   "cell_type": "markdown",
   "id": "74d03d9e",
   "metadata": {},
   "source": [
    "**Esercizio 5**"
   ]
  },
  {
   "cell_type": "markdown",
   "id": "56f1052e",
   "metadata": {},
   "source": [
    "Assumendo il seguente tipo di dato che descrive interi “colorati” di nero o di rosso:\n",
    "\n",
    "type colored_int =\n",
    "| Black of int\n",
    "| Red of int\n",
    "\n",
    "si definiscano, usando i costrutti di programmazione funzionale di OCaml, le funzioni swap_colors e seq_len\n",
    "con tipi\n",
    "swap_colors : colored_int list -> colored_int list\n",
    "seq_len : colored_int list -> int\n",
    "tali che:\n",
    "\n",
    "    • swap_colors lis restituisca una lista analoga a lis ma in cui gli interi neri sono rossi e viceversa;\n",
    "    • seq_len lis restituisca la lunghezza della più lunga sequenza di interi dello stesso colore consecutivi\n",
    "in lis\n",
    "\n",
    "\n",
    "Ad esempio, data la seguente lista di interi colorati\n",
    "\n",
    "let lis = [Black 10; Red 5; Red 2; Black 4; Black 1; Black 7; Red 2]\n",
    "abbiamo che\n",
    "swap_colors lis;; (* restituisce [Red 10; Black 5; Black 2; Red 4; Red 1; Red 7; Black 2] *)\n",
    "\n",
    "\n",
    "seq_len lis;;\n",
    "(* restituisce 3\n",
    "-- in quanto ci sono tre interi neri in sequenza *)"
   ]
  },
  {
   "cell_type": "code",
   "execution_count": 8,
   "id": "8898d309",
   "metadata": {},
   "outputs": [
    {
     "data": {
      "text/plain": [
       "type colored_int = Black of int | Red of int\n"
      ]
     },
     "execution_count": 8,
     "metadata": {},
     "output_type": "execute_result"
    }
   ],
   "source": [
    "type colored_int = \n",
    "    | Black of int\n",
    "    | Red of int ;;"
   ]
  },
  {
   "cell_type": "code",
   "execution_count": 9,
   "id": "ef211506",
   "metadata": {},
   "outputs": [
    {
     "data": {
      "text/plain": [
       "val swap_colors : colored_int list -> colored_int list = <fun>\n"
      ]
     },
     "execution_count": 9,
     "metadata": {},
     "output_type": "execute_result"
    },
    {
     "data": {
      "text/plain": [
       "val seq_len : colored_int list -> int = <fun>\n"
      ]
     },
     "execution_count": 9,
     "metadata": {},
     "output_type": "execute_result"
    },
    {
     "data": {
      "text/plain": [
       "val list : colored_int list =\n",
       "  [Black 10; Red 5; Red 2; Black 4; Black 1; Black 7; Red 2]\n"
      ]
     },
     "execution_count": 9,
     "metadata": {},
     "output_type": "execute_result"
    },
    {
     "data": {
      "text/plain": [
       "- : int = 3\n"
      ]
     },
     "execution_count": 9,
     "metadata": {},
     "output_type": "execute_result"
    }
   ],
   "source": [
    "let rec swap_colors lis =\n",
    "    match lis with \n",
    "    | [] -> []\n",
    "    | Black x::lis' -> Red x::swap_colors lis' \n",
    "    | Red x::lis' -> Black x::swap_colors lis' ;;\n",
    " \n",
    "let seq_len lis =\n",
    "  let rec aux max_len curr_len prev_color = function\n",
    "        | [] -> max_len\n",
    "        | Black x ::lis' when prev_color = Some `Black -> aux max_len (curr_len + 1) (Some `Black) lis'\n",
    "        | Red x ::lis' when prev_color = Some `Red -> aux max_len (curr_len + 1) (Some `Red) lis'\n",
    "        | Black x ::lis' -> aux (max max_len curr_len) 1 (Some `Black) lis'\n",
    "        | Red x ::lis' -> aux (max max_len curr_len) 1 (Some `Red) lis'\n",
    "      in\n",
    "      aux 0 0 None lis\n",
    "  \n",
    "\n",
    "let list = [Black 10; Red 5; Red 2; Black 4; Black 1; Black 7; Red 2] ;;\n",
    "seq_len list"
   ]
  },
  {
   "cell_type": "markdown",
   "id": "0bab9349",
   "metadata": {},
   "source": [
    "**Esercizio 6**"
   ]
  },
  {
   "cell_type": "markdown",
   "id": "d3f48aa1",
   "metadata": {},
   "source": [
    "Assumendo il seguente tipo di dato che descrive valute in Euro o Dollari:\n",
    "type valuta =\n",
    "| Euro of float\n",
    "| Dollari of float;;\n",
    "\n",
    "\n",
    "Definire in OCaml le funzioni inEuro, somma_valute e separa_valute con i seguenti tipi\n",
    "\n",
    "\n",
    "inEuro : float -> valuta -> valuta\n",
    "somma_valute : float -> valuta list -> valuta\n",
    "separa_valute : valuta list -> valuta list * valuta list\n",
    "\n",
    "\n",
    "tali che:\n",
    "\n",
    "\n",
    "- inEuro prende un numero reale t che rappresenta il tasso di cambio Euro/Dollaro (attualmente 0,93\n",
    "Euro per ogni Dollaro), prende x di tipo valuta e restituisce y di tipo valuta. Se x è una valuta\n",
    "espressa in Dollari, la converte in Euro moltiplicandola per t. Se invece è già in Euro, la restituisce\n",
    "cosı̀ com’è.\n",
    "\n",
    "\n",
    "- somma_valute prende un tasso di cambio t (come sopra) e una lista lis di elementi di tipo valuta.\n",
    "La funzione somma tutti gli elementi di lis restituendo un valore totale espresso in Euro. Eventuali\n",
    "valori in lis espressi in Dollari devono essere convertiti in Euro usando il tasso t.\n",
    "\n",
    "\n",
    "- separa_valute prende una lista lis di elementi di tipo valuta e restituisce una coppia di liste\n",
    "(lis1,lis2) dove lis1 contiene gli elementi di lis espressi in Euro, e lis2 quelli espressi in Dollari.\n",
    "\n",
    "\n",
    "Ad esempio,\n",
    "inEuro 0.93 (Euro 2.0) (* calcola Euro 2.0 *);;\n",
    "\n",
    "\n",
    "inEuro 0.93 (Dollari 2.0) (* calcola Euro 1.86 *);;\n",
    "\n",
    "\n",
    "\n",
    "\n",
    "considerando la seguente lista di valute:\n",
    "let lis = [Euro 1.5; Dollari (-1.0); Dollari 2.6; Euro (-2.0);];;\n",
    "\n",
    "\n",
    "le funzioni danno i seguenti risultati:\n",
    "\n",
    "\n",
    "- somma_valute 0.93 lis;; (* calcola Euro 0.988 *)\n",
    "\n",
    "- somma_valute 0.5 lis;;(* calcola Euro 0.3 --- usa tasso Euro/Dollaro = 0.5 *)\n",
    "\n",
    "- separa_valute lis;; (* calcola la coppia di liste:  (*[Euro 1.5; Euro (-2.0)], [Dollari (-1.0); Dollari 2.6]) *)"
   ]
  },
  {
   "cell_type": "code",
   "execution_count": 10,
   "id": "b0129ee5",
   "metadata": {},
   "outputs": [
    {
     "data": {
      "text/plain": [
       "type valuta = Euro of float | Dollari of float\n"
      ]
     },
     "execution_count": 10,
     "metadata": {},
     "output_type": "execute_result"
    }
   ],
   "source": [
    "type valuta = \n",
    "    | Euro of float\n",
    "    | Dollari of float ;;"
   ]
  },
  {
   "cell_type": "code",
   "execution_count": 11,
   "id": "fdc7cd38",
   "metadata": {},
   "outputs": [
    {
     "data": {
      "text/plain": [
       "val inEuro : float -> valuta -> valuta = <fun>\n"
      ]
     },
     "execution_count": 11,
     "metadata": {},
     "output_type": "execute_result"
    }
   ],
   "source": [
    "let inEuro t x = \n",
    "    match x with \n",
    "    | Euro m -> Euro m\n",
    "    | Dollari m -> Euro (m *. t) ;;"
   ]
  },
  {
   "cell_type": "code",
   "execution_count": 12,
   "id": "4b14363c",
   "metadata": {},
   "outputs": [
    {
     "data": {
      "text/plain": [
       "val somma_valute : float -> valuta list -> valuta = <fun>\n"
      ]
     },
     "execution_count": 12,
     "metadata": {},
     "output_type": "execute_result"
    }
   ],
   "source": [
    "let rec somma_valute t lis =\n",
    "  let f sum v = \n",
    "    match v with\n",
    "    | Euro m -> sum +. m\n",
    "    | Dollari m -> sum +. (m *. t)\n",
    "    in Euro (List.fold_left f 0. lis) ;;"
   ]
  },
  {
   "cell_type": "code",
   "execution_count": 13,
   "id": "8a13214e",
   "metadata": {},
   "outputs": [
    {
     "data": {
      "text/plain": [
       "val separa_valute : valuta list -> valuta list list * valuta list list =\n",
       "  <fun>\n"
      ]
     },
     "execution_count": 13,
     "metadata": {},
     "output_type": "execute_result"
    },
    {
     "data": {
      "text/plain": [
       "val lis : valuta list = [Euro 1.5; Dollari (-1.); Dollari 2.6; Euro (-2.)]\n"
      ]
     },
     "execution_count": 13,
     "metadata": {},
     "output_type": "execute_result"
    },
    {
     "data": {
      "text/plain": [
       "- : valuta list list * valuta list list =\n",
       "([[Euro 1.5; Euro (-2.)]], [[Dollari (-1.); Dollari 2.6]])\n"
      ]
     },
     "execution_count": 13,
     "metadata": {},
     "output_type": "execute_result"
    }
   ],
   "source": [
    "let rec separa_valute lis = \n",
    "    match lis with \n",
    "    | [] -> ([], [])\n",
    "    | lis' -> ([List.filter (function | Euro _ -> true | _ -> false) lis'], [List.filter (function | Euro _ -> false | _ -> true) lis'])\n",
    "    \n",
    "let lis = [Euro 1.5; Dollari (-1.0); Dollari 2.6; Euro (-2.0);];;\n",
    "separa_valute lis "
   ]
  },
  {
   "cell_type": "markdown",
   "id": "0f65f5c3",
   "metadata": {},
   "source": [
    "**Esercizio 7**"
   ]
  },
  {
   "cell_type": "markdown",
   "id": "b2eb4d07",
   "metadata": {},
   "source": [
    "Assumendo il seguente tipo di dato che descrive alberi binari di interi:\n",
    "\n",
    "\n",
    "type btree =\n",
    "| Node of int * btree * btree\n",
    "| Leaf of int\n",
    "\n",
    "\n",
    "si definiscano, usando i costrutti di programmazione funzionale di OCaml, tre funzioni chiamate profondita,\n",
    "max_profondita e conta_max con tipi\n",
    "\n",
    "profondita : btree -> int\n",
    "\n",
    "max_profondita : btree list -> int\n",
    "\n",
    "conta_max : btree_list -> int*int\n",
    "\n",
    "tali che:\n",
    "   - profondita bt restituisca la profondità dell’albero bt. (NOTA: un albero costituito solo da una foglia\n",
    "ha profondità pari a 0)\n",
    "   - max_profondita btlis restituisca il massimo tra le profondità degli alberi contenuti nella lista btlis\n",
    "(NOTA: se la lista è vuota, restituisce 0)\n",
    "   - conta_max btlis restituisca una coppia di interi (max_prof,n) dove max_prof è la profondità mas-\n",
    "sima degli alberi in btlis, mentre n è il numero di alberi in btlis che hanno tale profondità. \n",
    "\n",
    "(NOTA: se la lista è vuota, restituisce (0,0))"
   ]
  },
  {
   "cell_type": "code",
   "execution_count": 14,
   "id": "0ceb8bd4",
   "metadata": {},
   "outputs": [
    {
     "data": {
      "text/plain": [
       "type btree = Leaf of int | Node of int * btree * btree\n"
      ]
     },
     "execution_count": 14,
     "metadata": {},
     "output_type": "execute_result"
    },
    {
     "data": {
      "text/plain": [
       "val bt1 : btree = Node (3, Leaf 5, Node (-4, Leaf 6, Leaf 5))\n"
      ]
     },
     "execution_count": 14,
     "metadata": {},
     "output_type": "execute_result"
    },
    {
     "data": {
      "text/plain": [
       "val bt2 : btree = Node (1, Node (7, Leaf 6, Leaf 1), Leaf (-2))\n"
      ]
     },
     "execution_count": 14,
     "metadata": {},
     "output_type": "execute_result"
    }
   ],
   "source": [
    "type btree = \n",
    "    | Leaf of int\n",
    "    | Node of int * btree * btree ;;\n",
    "    \n",
    "let bt1 = Node (3, Leaf 5, Node (-4, Leaf 6, Leaf 5)) ;;\n",
    "let bt2 = Node (1, Node (7, Leaf 6, Leaf 1), Leaf (-2)) "
   ]
  },
  {
   "cell_type": "code",
   "execution_count": 15,
   "id": "02a79444",
   "metadata": {},
   "outputs": [
    {
     "data": {
      "text/plain": [
       "val depth : btree -> int = <fun>\n"
      ]
     },
     "execution_count": 15,
     "metadata": {},
     "output_type": "execute_result"
    },
    {
     "data": {
      "text/plain": [
       "val max_elem : int list -> int = <fun>\n"
      ]
     },
     "execution_count": 15,
     "metadata": {},
     "output_type": "execute_result"
    },
    {
     "data": {
      "text/plain": [
       "val max_depth2 : btree list -> int = <fun>\n"
      ]
     },
     "execution_count": 15,
     "metadata": {},
     "output_type": "execute_result"
    },
    {
     "data": {
      "text/plain": [
       "val max_depth : btree list -> int = <fun>\n"
      ]
     },
     "execution_count": 15,
     "metadata": {},
     "output_type": "execute_result"
    },
    {
     "data": {
      "text/plain": [
       "val conta_max : btree list -> int * int = <fun>\n"
      ]
     },
     "execution_count": 15,
     "metadata": {},
     "output_type": "execute_result"
    },
    {
     "data": {
      "text/plain": [
       "val btlist : btree list =\n",
       "  [Node (3, Leaf 5, Node (-4, Leaf 6, Leaf 5));\n",
       "   Node (1, Node (7, Leaf 6, Leaf 1), Leaf (-2))]\n"
      ]
     },
     "execution_count": 15,
     "metadata": {},
     "output_type": "execute_result"
    },
    {
     "data": {
      "text/plain": [
       "- : int = 2\n"
      ]
     },
     "execution_count": 15,
     "metadata": {},
     "output_type": "execute_result"
    },
    {
     "data": {
      "text/plain": [
       "- : int * int = (2, 2)\n"
      ]
     },
     "execution_count": 15,
     "metadata": {},
     "output_type": "execute_result"
    }
   ],
   "source": [
    "let rec depth bt = \n",
    "    match bt with \n",
    "    | Leaf x -> 0\n",
    "    | Node(x, left, right) -> 1 + max (depth left) (depth right) ;;\n",
    "\n",
    "(* Strova massimo in una lista. Si poteva anche farne a meno in realtà... *)\n",
    "let rec max_elem l = \n",
    "    match l with\n",
    "    | [] -> 0\n",
    "    | x::l' -> let m = max_elem l' in if (x > m) then x else m ;; \n",
    "    \n",
    "(* Soluzione proposta per max_depth *)\n",
    "let rec max_depth2 list = \n",
    "    match list with\n",
    "    | [] -> 0\n",
    "    | bt::list' -> let (d1, d2) = (depth bt, max_depth2 list') in if (d1 > d2) then d1 else d2 ;;\n",
    "\n",
    "let rec max_depth lis =\n",
    "    match lis with\n",
    "    | [] -> 0\n",
    "    | x::lis' -> max_elem ([depth x]@(List.map depth lis')) ;;\n",
    "  \n",
    "let conta_max btlis = \n",
    "    match btlis with\n",
    "    | [] -> (0, 0)\n",
    "    | btlis' -> let md = max_depth btlis' in \n",
    "                let c = List.fold_left (fun acc bt -> if (depth bt = md) then (acc+1) else acc) 0 btlis'\n",
    "                in (md, c) ;;\n",
    "      \n",
    "                    \n",
    "let btlist = [bt1; bt2] ;;\n",
    "max_depth2 btlist;; \n",
    "conta_max btlist"
   ]
  },
  {
   "cell_type": "markdown",
   "id": "1177c963",
   "metadata": {},
   "source": [
    "**Esercizio 8**\n",
    "\n",
    "Definire, usando i costrutti di programmazione funzionale in OCaml, una funzione duemax con tipo\n",
    "\n",
    "duemax : ‘a list -> (‘a * ‘a) option\n",
    "\n",
    "in modo che duemax lis restituisca Some (x,y) tale che per ogni elemento z di lis vale x ≥ y ≥ z. La\n",
    "funzione restituisce None in caso di lista vuota. \n",
    "\n",
    "Esempi:\n",
    "\n",
    "\n",
    "duemax [2;3;1;5] = Some (5,3)\n",
    "\n",
    "duemax [’t’] = Some (’t’,’t’)\n",
    "\n",
    "duemax [] = None"
   ]
  },
  {
   "cell_type": "code",
   "execution_count": 16,
   "id": "f7eb3873",
   "metadata": {},
   "outputs": [
    {
     "data": {
      "text/plain": [
       "val duemax : 'a list -> ('a * 'a) option = <fun>\n"
      ]
     },
     "execution_count": 16,
     "metadata": {},
     "output_type": "execute_result"
    },
    {
     "data": {
      "text/plain": [
       "- : (int * int) option = Some (3, 2)\n"
      ]
     },
     "execution_count": 16,
     "metadata": {},
     "output_type": "execute_result"
    },
    {
     "data": {
      "text/plain": [
       "- : (char * char) option = Some ('t', 't')\n"
      ]
     },
     "execution_count": 16,
     "metadata": {},
     "output_type": "execute_result"
    }
   ],
   "source": [
    "let rec duemax lis =\n",
    "    match lis with\n",
    "    | [] -> None\n",
    "    | [x] -> Some (x, x)\n",
    "    | [x; y] -> if (x < y) then Some (x, y) else Some (y, x)\n",
    "    | x::lis' -> match duemax lis' \n",
    "                    with\n",
    "                    | None -> failwith \"Error\"\n",
    "                    | Some (a, b) -> if (a < x) then Some (x, a) else if (x > b) then Some (a, x) else Some (a, b) ;;\n",
    "                                   \n",
    "duemax [2;3;1;5] ;;\n",
    "duemax ['t'] ;;"
   ]
  },
  {
   "cell_type": "markdown",
   "id": "28597adf",
   "metadata": {},
   "source": [
    "**Esercizio 9**\n",
    "\n",
    "Assumendo il seguente tipo di dato che descrive alberi binari di interi:\n",
    "\n",
    "type btree =\n",
    "| Void\n",
    "| Node of int * btree * btree\n",
    "\n",
    "si definisca, usando i costrutti di programmazione funzionale di OCaml, una funzione distinct con tipo\n",
    "\n",
    "distinct : btree -> bool\n",
    "\n",
    "tale che distinct bt restituisca true se i valori interi nell’albero rappresentato da bt sono tutti diversi tra\n",
    "loro, false se invece bt contiene almeno due numeri uguali.\n",
    "\n",
    "Ad esempio dato il seguente albero binario:\n",
    "\n",
    "let bt = Node (3, Node (5, Node(1,Void,Void), Void), Node (-4, Node(6,Void,Void), Node(5,Void,Void)))\n",
    "\n",
    "abbiamo che distinct bt restituisce false a causa delle due occorrenze del valore 5."
   ]
  },
  {
   "cell_type": "code",
   "execution_count": 17,
   "id": "0c65f449",
   "metadata": {},
   "outputs": [
    {
     "data": {
      "text/plain": [
       "type btree = Void | Node of int * btree * btree\n"
      ]
     },
     "execution_count": 17,
     "metadata": {},
     "output_type": "execute_result"
    }
   ],
   "source": [
    "type btree =\n",
    "| Void\n",
    "| Node of int * btree * btree ;;"
   ]
  },
  {
   "cell_type": "code",
   "execution_count": 18,
   "id": "8bbccef2",
   "metadata": {},
   "outputs": [
    {
     "data": {
      "text/plain": [
       "val distinct : btree -> bool = <fun>\n"
      ]
     },
     "execution_count": 18,
     "metadata": {},
     "output_type": "execute_result"
    },
    {
     "data": {
      "text/plain": [
       "val bt : btree =\n",
       "  Node (3, Node (5, Node (1, Void, Void), Void),\n",
       "   Node (-4, Node (6, Void, Void), Node (5, Void, Void)))\n"
      ]
     },
     "execution_count": 18,
     "metadata": {},
     "output_type": "execute_result"
    },
    {
     "data": {
      "text/plain": [
       "- : bool = true\n"
      ]
     },
     "execution_count": 18,
     "metadata": {},
     "output_type": "execute_result"
    }
   ],
   "source": [
    "let distinct bt =\n",
    "    let rec aux t seen =\n",
    "        match t with\n",
    "        | Void -> true \n",
    "        | Node (x, left, right) -> if List.mem x seen then false else \n",
    "                                   let new_node = x::seen in (aux left new_node) && (aux right new_node) \n",
    "    in aux bt [] ;;\n",
    "        \n",
    "let bt = Node (3, Node (5, Node(1,Void,Void), Void), Node (-4, Node(6,Void,Void), Node(5,Void,Void))) ;;\n",
    "distinct bt"
   ]
  },
  {
   "cell_type": "markdown",
   "id": "9c194e41",
   "metadata": {},
   "source": [
    "**Esercizio 10**"
   ]
  },
  {
   "cell_type": "markdown",
   "id": "81be8503",
   "metadata": {},
   "source": [
    "Si definisca, usando i costrutti di programmazione funzionale di OCaml, una funzione merge con tipo\n",
    "\n",
    "merge : ’a list list -> ’a list\n",
    "\n",
    "tale che, data una lista di liste lis, l’applicazione merge lis restituisca una lista contenente tutti gli\n",
    "elementi delle liste contenute in lis, senza ripetizioni.\n",
    "\n",
    "Ad esempio, merge [[3;4;5];[9;5];[3;6;9;6]] deve restituire la lista [3;4;5;9;6]. \n",
    "L’ordine degli elementi nel risultato può essere qualunque."
   ]
  },
  {
   "cell_type": "code",
   "execution_count": 19,
   "id": "f76ace06",
   "metadata": {},
   "outputs": [
    {
     "data": {
      "text/plain": [
       "val merge : 'a list list -> 'a list = <fun>\n"
      ]
     },
     "execution_count": 19,
     "metadata": {},
     "output_type": "execute_result"
    },
    {
     "data": {
      "text/plain": [
       "val l : int list list = [[3; 4; 5]; [9; 5]; [3; 6; 9; 6]]\n"
      ]
     },
     "execution_count": 19,
     "metadata": {},
     "output_type": "execute_result"
    },
    {
     "data": {
      "text/plain": [
       "- : int list = [9; 6; 5; 4; 3]\n"
      ]
     },
     "execution_count": 19,
     "metadata": {},
     "output_type": "execute_result"
    }
   ],
   "source": [
    "let rec merge list = \n",
    "    match list with \n",
    "    | [] -> []\n",
    "    | x::lis' -> let result = x @ merge lis' in List.fold_left (fun acc y -> if not (List.mem y acc) then y::acc else acc) [] result;;\n",
    "    \n",
    "let l = [[3;4;5];[9;5];[3;6;9;6]] ;;\n",
    "merge l "
   ]
  },
  {
   "cell_type": "markdown",
   "id": "2b731fd2",
   "metadata": {},
   "source": [
    "**Esercizio 11**"
   ]
  },
  {
   "cell_type": "markdown",
   "id": "33cd73ab",
   "metadata": {},
   "source": [
    "Definire in OCaml tre funzioni pairs, split e paridispari con tipi\n",
    "\n",
    "pairs : ’a list -> ’a * ’a list\n",
    "\n",
    "split : ’a * ’b list -> ’a list * ’b list\n",
    "\n",
    "paridispari : int list -> int list * int list\n",
    "\n",
    "La funzione pairs prende una lista [e1;e2;e3;...;ek] di tipo ’a list e restituisce una lista in cui gli\n",
    "elementi vengono messi in coppia a due a due (il primo con il secondo, il terzo con il quarto, ecc.), come nel\n",
    "seguente esempio:\n",
    "\n",
    "pairs [1;2;3;4;5;6] = [(1, 2); (3, 4); (5, 6)]\n",
    "\n",
    "se la lista passata ha lunghezza dispari, l’ultimo elemento viene ignorato, come nel seguente esempio:\n",
    "\n",
    "pairs [1;2;3;4;5;6;7] = [(1, 2); (3, 4); (5, 6)]\n",
    "\n",
    "La funzione split prende una lista di coppie [(a0,b0);(a1,b1);...;(ak,bk)] di tipo ’a * ’b list e\n",
    "restituisce una coppia di liste contenenti rispettivamente tutti i primi e tutti i secondi elementi delle singole\n",
    "liste, come nel seguente esempio:\n",
    "\n",
    "split [(0,5);(1,6);(2,7)] = ([0; 1; 2], [5; 6; 7])\n",
    "\n",
    "La funzione paridispari prende una lista di interi [n0;n1;n2;...;nk] di tipo int list e restituisce\n",
    "una coppia di liste (lis1,lis2) di tipo int list * int list in cui lis1 contiene gli elementi in posizioni\n",
    "pari nella lista di partenza (partendo a contare da 0, ossia [n0;n2;...]) mentre lis2 contiene gli elementi\n",
    "in posizioni dispari (ossia [n1;n3;...]). \n",
    "Ad esempio:\n",
    "\n",
    "paridispari [4;1;5;7;9;3;2] = ([4;5;9;2],[1;7;3])"
   ]
  },
  {
   "cell_type": "code",
   "execution_count": 20,
   "id": "629ddac8",
   "metadata": {},
   "outputs": [
    {
     "data": {
      "text/plain": [
       "val pairs : 'a list -> ('a * 'a) list = <fun>\n"
      ]
     },
     "execution_count": 20,
     "metadata": {},
     "output_type": "execute_result"
    },
    {
     "data": {
      "text/plain": [
       "val split : ('a * 'b) list -> 'a list * 'b list = <fun>\n"
      ]
     },
     "execution_count": 20,
     "metadata": {},
     "output_type": "execute_result"
    },
    {
     "data": {
      "text/plain": [
       "val paridispari : 'a list -> 'a list * 'a list = <fun>\n"
      ]
     },
     "execution_count": 20,
     "metadata": {},
     "output_type": "execute_result"
    },
    {
     "data": {
      "text/plain": [
       "- : (int * int) list = [(1, 2)]\n"
      ]
     },
     "execution_count": 20,
     "metadata": {},
     "output_type": "execute_result"
    },
    {
     "data": {
      "text/plain": [
       "- : (int * int) list = [(1, 2); (3, 4); (5, 6)]\n"
      ]
     },
     "execution_count": 20,
     "metadata": {},
     "output_type": "execute_result"
    },
    {
     "data": {
      "text/plain": [
       "- : int list * int list = ([0; 1; 2], [5; 6; 7])\n"
      ]
     },
     "execution_count": 20,
     "metadata": {},
     "output_type": "execute_result"
    },
    {
     "data": {
      "text/plain": [
       "- : int list * int list = ([4; 5; 9; 2], [1; 7; 3])\n"
      ]
     },
     "execution_count": 20,
     "metadata": {},
     "output_type": "execute_result"
    }
   ],
   "source": [
    "let rec pairs lis = \n",
    "    match lis with\n",
    "    | [] -> []\n",
    "    | [x] -> []\n",
    "    | [x;y] -> [(x, y)]\n",
    "    | x::y::lis' -> (x,y)::pairs lis';;\n",
    "    \n",
    "let rec split lis = \n",
    "    match lis with\n",
    "    | [] -> ([], [])\n",
    "    | (x, y)::lis' -> let (first, second) = (split lis') in (x::first, y::second) ;; (* creo due liste e aggiungo elementi *)\n",
    "    \n",
    "    \n",
    "let rec paridispari lis = \n",
    "    match lis with\n",
    "    | [] -> ([], [])\n",
    "    | [x] -> ([x], [])\n",
    "    | x::y::lis' -> let (even, odd) = paridispari lis' in (x::even, y::odd) ;; (* come sopra *)\n",
    "    \n",
    "pairs [1;2] ;;\n",
    "pairs [1;2;3;4;5;6;9] ;;\n",
    "split [(0,5);(1,6);(2,7)] ;;\n",
    "paridispari [4;1;5;7;9;3;2]"
   ]
  },
  {
   "cell_type": "markdown",
   "id": "ffa7dfca",
   "metadata": {},
   "source": [
    "**Esercizio 12**"
   ]
  },
  {
   "cell_type": "markdown",
   "id": "286f038c",
   "metadata": {},
   "source": [
    "Assumendo il seguente tipo di dato che descrive alberi n-ari di interi:\n",
    "\n",
    "type ntree =\n",
    "| Node of int * ntree list\n",
    "\n",
    "Definire in OCaml le funzioni contains e remove con i seguenti tipi\n",
    "\n",
    "contains : int -> ntree -> bool\n",
    "\n",
    "addchild : int -> ntree -> ntree\n",
    "\n",
    "\n",
    "tali che:\n",
    "  - contains prende un intero n e un albero t, e restituisce true se n è presente in t. Restituisce false altrimenti\n",
    "  \n",
    "  \n",
    "  - addchild prende due interi n e m e un albero t, e restituisce un albero ottenuto aggiungendo ad ogni  nodo etichettato con n in t, un figlio foglia etichettato con m. Se nessun nodo è etichettato con n, il metodo addchild restituisce un albero identico a t."
   ]
  },
  {
   "cell_type": "code",
   "execution_count": 21,
   "id": "3482c32f",
   "metadata": {},
   "outputs": [
    {
     "data": {
      "text/plain": [
       "type ntree = Node of int * ntree list\n"
      ]
     },
     "execution_count": 21,
     "metadata": {},
     "output_type": "execute_result"
    }
   ],
   "source": [
    "type ntree = \n",
    "    | Node of int * ntree list ;;"
   ]
  },
  {
   "cell_type": "code",
   "execution_count": 22,
   "id": "bef64ce3",
   "metadata": {},
   "outputs": [
    {
     "data": {
      "text/plain": [
       "val t : ntree =\n",
       "  Node (1,\n",
       "   [Node (2, []); Node (3, [Node (4, []); Node (5, [])]);\n",
       "    Node (6, [Node (3, [])])])\n"
      ]
     },
     "execution_count": 22,
     "metadata": {},
     "output_type": "execute_result"
    }
   ],
   "source": [
    "let t = Node (1, [Node (2,[]);Node (3,[Node (4,[]);Node (5,[])]);Node (6,[Node (3,[])])]) ;;"
   ]
  },
  {
   "cell_type": "code",
   "execution_count": 23,
   "id": "248b7cee",
   "metadata": {},
   "outputs": [
    {
     "data": {
      "text/plain": [
       "val contains : int -> ntree -> bool = <fun>\n"
      ]
     },
     "execution_count": 23,
     "metadata": {},
     "output_type": "execute_result"
    },
    {
     "ename": "error",
     "evalue": "compile_error",
     "output_type": "error",
     "traceback": [
      "File \"[23]\", line 9, characters 54-58:\n9 |     | Node (x, children) -> if (x = n) then Node (x, (Node (m, [])))::List.map (addchild n m) children \n                                                          ^^^^\nError: This variant expression is expected to have type ntree list\n       The constructor Node does not belong to type list\n"
     ]
    }
   ],
   "source": [
    "let rec contains n t = \n",
    "    match t with \n",
    "    | Node (x, []) -> if (n = x) then true else false \n",
    "    | Node(x, children) -> if (n=x) then true else List.exists (contains n) children ;;\n",
    "    \n",
    "(* Soluzione proposta *)\n",
    "let rec addchild n m t = \n",
    "    match t with\n",
    "    | Node (x, children) -> if (x = n) then Node (x, (Node (m, [])))::List.map (addchild n m) children \n",
    "                            else Node(x, List.map addchild n m children) ;; \n",
    "\n",
    "\n",
    "contains 6 t ;;\n",
    "contains 8 t ;;\n",
    "addchild 1 4 (Node(1, []))"
   ]
  },
  {
   "cell_type": "markdown",
   "id": "b450cb23",
   "metadata": {},
   "source": [
    "**Esercizio 13**\n",
    "\n",
    "Definire in OCaml tre funzioni coppie_da_lista, lista_tripla e espandi con tipi\n",
    "\n",
    "coppie_da_lista : ’a list -> ’a * ’a list\n",
    "\n",
    "lista_tripla : ’a * ’b * ’c list -> ’a list * ’b list * ’c list\n",
    "\n",
    "espandi : ’a * int list -> ’a list list\n",
    "\n",
    "La funzione coppie_da_lista prende una lista [e1;e2;e3;...;ek] di tipo ’a list e restituisce una\n",
    "lista contenente tutte le possibili coppie che si possono formare prendendo due elementi qualunque della\n",
    "lista, come nel seguente esempio:\n",
    "\n",
    "coppie_da_lista [1;2;3;4] = [(1, 2); (1, 3); (1, 4); (2, 3); (2, 4); (3, 4)]\n",
    "\n",
    "La funzione lista_tripla prende una lista di triple [(a1,b1,c1);(a2,b2,c2);...;(ak,bk,ck)] di\n",
    "tipo ’a * ’b * ’c list e restituisce una tripla di liste contenenti rispettivamente tutti i primi, tutti i\n",
    "secondi e tutti i terzi elementi delle singole liste, come nel seguente esempio:\n",
    "\n",
    "lista_tripla [(1,5,4);(2,6,3);(3,7,2)] = ([1; 2; 3], [5; 6; 7], [4; 3; 2])\n",
    "\n",
    "La funzione espandi prende una lista di coppie [(e1,n1),(e2,n2),...,(ek,nk)] di tipo (’a * int) list\n",
    "e restituisce una lista di tipo ’a list list in cui ogni coppia (ei,ni) è sostituita da un lista con ni copie\n",
    "dell’elemento ei. \n",
    "\n",
    "Ad esempio:\n",
    "espandi [(’a’,4);(’b’,3);(’c’,5)] =\n",
    "[[’a’; ’a’; ’a’; ’a’]; [’b’; ’b’; ’b’]; [’c’; ’c’; ’c’; ’c’; ’c’]]"
   ]
  },
  {
   "cell_type": "code",
   "execution_count": 24,
   "id": "1e669ee4",
   "metadata": {},
   "outputs": [
    {
     "data": {
      "text/plain": [
       "val coppie_da_lista : 'a list -> ('a * 'a) list = <fun>\n"
      ]
     },
     "execution_count": 24,
     "metadata": {},
     "output_type": "execute_result"
    },
    {
     "data": {
      "text/plain": [
       "val lista_tripla : ('a * 'b * 'c) list -> 'a list * 'b list * 'c list = <fun>\n"
      ]
     },
     "execution_count": 24,
     "metadata": {},
     "output_type": "execute_result"
    },
    {
     "data": {
      "text/plain": [
       "val espandi : ('a * int) list -> 'a list list = <fun>\n"
      ]
     },
     "execution_count": 24,
     "metadata": {},
     "output_type": "execute_result"
    },
    {
     "data": {
      "text/plain": [
       "- : (int * int) list = [(1, 2); (1, 3); (1, 4); (2, 3); (2, 4); (3, 4)]\n"
      ]
     },
     "execution_count": 24,
     "metadata": {},
     "output_type": "execute_result"
    },
    {
     "data": {
      "text/plain": [
       "- : int list * int list * int list = ([1; 2; 3], [5; 6; 7], [4; 3; 2])\n"
      ]
     },
     "execution_count": 24,
     "metadata": {},
     "output_type": "execute_result"
    },
    {
     "data": {
      "text/plain": [
       "- : char list list =\n",
       "[['a'; 'a'; 'a'; 'a']; ['b'; 'b'; 'b']; ['c'; 'c'; 'c'; 'c'; 'c']]\n"
      ]
     },
     "execution_count": 24,
     "metadata": {},
     "output_type": "execute_result"
    }
   ],
   "source": [
    "let rec coppie_da_lista lis =\n",
    "    match lis with\n",
    "    | [] -> []\n",
    "    | x::lis' -> (List.map (fun y -> (x,y)) lis') @ (coppie_da_lista lis') ;; \n",
    "\n",
    "let rec lista_tripla lis = \n",
    "    match lis with\n",
    "    | [] -> ([], [], [])\n",
    "    | (x,y,z)::lis' -> let (first,second,third) = lista_tripla lis' in (x::first, y::second, z::third) ;;\n",
    "    \n",
    "    \n",
    "let espandi lis = List.fold_left (fun acc (e, c) -> if (c>0) then acc@[List.init c (fun _ -> e)] else []) [] lis ;;\n",
    "\n",
    "coppie_da_lista [1;2;3;4] ;;\n",
    "lista_tripla [(1,5,4);(2,6,3);(3,7,2)] ;;\n",
    "espandi [('a',4);('b',3);('c',5)]"
   ]
  },
  {
   "cell_type": "markdown",
   "id": "b6020130",
   "metadata": {},
   "source": [
    "**Esercizio 14**\n",
    "\n",
    "Considerando il tipo ’a colored_tree che rappresenta alberi con nodi colorati definito\n",
    "nell’esercizio 1, scrivere una funzione raccogli che, dato un albero di questo tipo, restituisce una tripla di\n",
    "liste (l1,l2,l3) di tipo ’a list * ’a list * ’a list dove l1 contiene tutti i valori contenuti nei nodi\n",
    "Black, l2 tutti i valori nei nodi Red ed l3 tutti i valori nei nodi Blue. \n",
    "\n",
    "Ad esempio, dato il seguente albero:\n",
    "\n",
    "let tree = Red (\"a\",\n",
    "Blue (\"b\",\n",
    "Black \"c\",\n",
    "Red ( \"d\", Black \"e\", Black \"f\")),\n",
    "Red ( \"g\",\n",
    "Blue ( \"h\", Black \"i\", Black \"j\"),\n",
    "Black \"k\")) ;;\n",
    "\n",
    "\n",
    "l’applicazione raccogli tree deve dare come risultato:\n",
    "([\"c\"; \"e\"; \"f\"; \"i\"; \"j\"; \"k\"], [\"a\"; \"d\"; \"g\"], [\"b\"; \"h\"])\n",
    "L’ordine degli elementi nelle liste può essere diverso rispetto a questo esempio."
   ]
  },
  {
   "cell_type": "code",
   "execution_count": 25,
   "id": "089baf6b",
   "metadata": {},
   "outputs": [
    {
     "data": {
      "text/plain": [
       "type 'a colored_tree =\n",
       "    Black of 'a\n",
       "  | Red of 'a * 'a colored_tree * 'a colored_tree\n",
       "  | Blue of 'a * 'a colored_tree * 'a colored_tree\n"
      ]
     },
     "execution_count": 25,
     "metadata": {},
     "output_type": "execute_result"
    }
   ],
   "source": [
    "type 'a colored_tree = \n",
    "    | Black of 'a\n",
    "    | Red of 'a * ('a colored_tree) * ('a colored_tree) \n",
    "    | Blue of 'a * ('a colored_tree) * ('a colored_tree) ;;"
   ]
  },
  {
   "cell_type": "code",
   "execution_count": 26,
   "id": "11ff9dd6",
   "metadata": {},
   "outputs": [
    {
     "data": {
      "text/plain": [
       "val raccogli : 'a colored_tree -> 'a list * 'a list * 'a list = <fun>\n"
      ]
     },
     "execution_count": 26,
     "metadata": {},
     "output_type": "execute_result"
    },
    {
     "data": {
      "text/plain": [
       "val tree : string colored_tree =\n",
       "  Red (\"a\", Blue (\"b\", Black \"c\", Red (\"d\", Black \"e\", Black \"f\")),\n",
       "   Red (\"g\", Blue (\"h\", Black \"i\", Black \"j\"), Black \"k\"))\n"
      ]
     },
     "execution_count": 26,
     "metadata": {},
     "output_type": "execute_result"
    },
    {
     "data": {
      "text/plain": [
       "- : string list * string list * string list =\n",
       "([\"k\"; \"i\"; \"j\"; \"c\"; \"f\"; \"e\"], [\"a\"; \"g\"; \"d\"], [\"h\"; \"b\"])\n"
      ]
     },
     "execution_count": 26,
     "metadata": {},
     "output_type": "execute_result"
    }
   ],
   "source": [
    "let rec raccogli t = \n",
    "    match t with \n",
    "    | Black x -> ([x], [], []) \n",
    "    | Red (x, left, right) -> let (black,red,blue) = raccogli left in\n",
    "                              let (bl, r, blu) = raccogli right in\n",
    "                              (bl@black, x::r@red, blu@blue) \n",
    "    | Blue (x, left, right) -> let (black,red,blue) = raccogli left in\n",
    "                               let (bl, r, blu) = raccogli right in\n",
    "                               (black@bl, red@r, x::blue@blu) ;;\n",
    "\n",
    "let tree = Red (\"a\", Blue (\"b\", Black \"c\", Red ( \"d\", Black \"e\", Black \"f\")), Red ( \"g\", Blue ( \"h\", Black \"i\", Black \"j\"), Black \"k\")) ;;\n",
    "raccogli tree "
   ]
  },
  {
   "cell_type": "markdown",
   "id": "eb9cba72",
   "metadata": {},
   "source": [
    "**Esercizio 15**\n",
    "\n",
    "Esercizio 2.2.\n",
    "Assumendo il seguente tipo di dato che descrive alberi binari di interi:\n",
    "\n",
    "type btree =\n",
    "| Void\n",
    "| Node of int * btree * btree\n",
    "\n",
    "si definisca, usando i costrutti di programmazione funzionale di OCaml, una funzione flat con tipo\n",
    "\n",
    "flat : btree -> int list list\n",
    "\n",
    "tale che flat bt restituisca una lista contenente le liste di valori presenti ad ogni livello di profondità\n",
    "dell’albero.\n",
    "\n",
    "Ad esempio dato il seguente albero binario (a destra in una rappresentazione visuale):\n",
    "\n",
    "let bt =Node (3,Node (5,Node(1,Void,Void),Void),Node (-4,Node(6,Void,Void),Node(8,Void,Void)))\n",
    "\n",
    "abbiamo che flat bt restituisce [[3],[5,-4],[1,6,8]]."
   ]
  },
  {
   "cell_type": "code",
   "execution_count": 27,
   "id": "b527b035",
   "metadata": {},
   "outputs": [
    {
     "data": {
      "text/plain": [
       "type btree = Void | Node of int * btree * btree\n"
      ]
     },
     "execution_count": 27,
     "metadata": {},
     "output_type": "execute_result"
    }
   ],
   "source": [
    "type btree =\n",
    "    | Void\n",
    "    | Node of int * btree * btree"
   ]
  },
  {
   "cell_type": "code",
   "execution_count": 62,
   "id": "0ae40af6",
   "metadata": {},
   "outputs": [
    {
     "data": {
      "text/plain": [
       "val flat : btree -> int list list = <fun>\n"
      ]
     },
     "execution_count": 62,
     "metadata": {},
     "output_type": "execute_result"
    },
    {
     "data": {
      "text/plain": [
       "val bt : btree =\n",
       "  Node (3, Node (5, Node (1, Void, Void), Void),\n",
       "   Node (-4, Node (6, Void, Void), Node (8, Void, Void)))\n"
      ]
     },
     "execution_count": 62,
     "metadata": {},
     "output_type": "execute_result"
    },
    {
     "data": {
      "text/plain": [
       "- : int list list = [[3]; [5; -4]; [1; 6; 8]]\n"
      ]
     },
     "execution_count": 62,
     "metadata": {},
     "output_type": "execute_result"
    }
   ],
   "source": [
    "(* Soluzione proposta *)\n",
    "let rec flat bt =\n",
    "    let rec merge lis1 lis2 =\n",
    "        match lis1,lis2 with\n",
    "        | [],_ -> lis2\n",
    "        | _,[] -> lis1\n",
    "        | x::lis1',y::lis2' -> (x@y)::(merge lis1' lis2')\n",
    "        in\n",
    "        match bt with\n",
    "        | Void -> []\n",
    "        | Node (n,bt1,bt2) -> let lis1 = flat bt1 in let lis2 = flat bt2 in [[n]]@(merge lis1 lis2) ;;\n",
    "\n",
    "                                \n",
    "let bt = Node (3,Node (5,Node(1,Void,Void),Void),Node (-4,Node(6,Void,Void),Node(8,Void,Void))) ;;\n",
    "flat bt ;;"
   ]
  },
  {
   "cell_type": "code",
   "execution_count": null,
   "id": "dde58880",
   "metadata": {},
   "outputs": [],
   "source": []
  }
 ],
 "metadata": {
  "kernelspec": {
   "display_name": "OCaml default",
   "language": "OCaml",
   "name": "ocaml-jupyter"
  },
  "language_info": {
   "codemirror_mode": "text/x-ocaml",
   "file_extension": ".ml",
   "mimetype": "text/x-ocaml",
   "name": "OCaml",
   "nbconverter_exporter": null,
   "pygments_lexer": "OCaml",
   "version": "4.08.1"
  }
 },
 "nbformat": 4,
 "nbformat_minor": 5
}
